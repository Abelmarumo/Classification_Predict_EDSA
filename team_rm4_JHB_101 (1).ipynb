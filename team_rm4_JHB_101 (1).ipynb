{
 "cells": [
  {
   "cell_type": "markdown",
   "metadata": {
    "colab_type": "text",
    "id": "9HUf7THXJWSx"
   },
   "source": [
    "# Introduction\n",
    "\n",
    "## Context\n",
    "\n",
    "Kaggle is hosting a **Climate Change Belief Analysis** competition which aims to predict an individual's belief in climate change based on historical tweet data.\n",
    "\n",
    "The results from the prediction will help companies better understand their customer's perception on climate change. Such an analysis or prediction will help companies determine how their products will be recieved; thus guiding their marketing strategy and their production processes. The models to me trained are to be deployed to a Streamlit application which can be used remotely through the use of an AWS ec2 instance.\n",
    "\n",
    "\n",
    "## Problem Statement\n",
    "\n",
    "Companies are looking to create products and services that are environmentally friendly. They would thus like to understand their consumers' view on climate change. To address this, we are going to create Machine Learning models that are able to classify whether or not a person believes in climate change, based on their novel tweet data. Correct classification of a tweet will help companies understand consumer sentiment, which will further guide their business strategies.\n",
    "\n",
    "\n",
    "## Data Sets\n",
    "\n",
    "The data sets provided by host of the competition provide us with a message (tweet) and the tweet id. The tweets are related to the topic of climate change. \n",
    "\n",
    "The data sets used in the notebook:\n",
    "    - train.csv : data used to train models; loaded as train_data in our notebook.\n",
    "    - test.csv : data used to test the models; loaded as test_data in our notebook.\n",
    "    \n",
    "The train.csv data sis composed of 15819 tweets whilst the test.csv is composed of 10546 tweets. Below we go through the data sets to try and understand its composition further."
   ]
  },
  {
   "cell_type": "markdown",
   "metadata": {
    "colab_type": "text",
    "id": "gLLDbSygPXMY"
   },
   "source": [
    "# Comet- Version control setup"
   ]
  },
  {
   "cell_type": "code",
   "execution_count": null,
   "metadata": {
    "colab": {},
    "colab_type": "code",
    "id": "BaJ6sKjePcwl"
   },
   "outputs": [],
   "source": [
    "# !pip install comet_ml"
   ]
  },
  {
   "cell_type": "code",
   "execution_count": null,
   "metadata": {
    "colab": {},
    "colab_type": "code",
    "id": "qbgNXl16Puuz"
   },
   "outputs": [],
   "source": [
    "#from comet_ml import Experiment"
   ]
  },
  {
   "cell_type": "code",
   "execution_count": null,
   "metadata": {
    "colab": {},
    "colab_type": "code",
    "id": "RVWYYCJyPyT6"
   },
   "outputs": [],
   "source": [
    "#experiment = Experiment(api_key=\"KocQlMUqLsntXlqfK65whOpu7\",\n",
    "#                       project_name=\"Team_RM_4\", workspace=\"ghp042\")"
   ]
  },
  {
   "cell_type": "markdown",
   "metadata": {
    "colab_type": "text",
    "id": "gLU_mOKmJWS1"
   },
   "source": [
    "# Data Exploration\n",
    "## Import packages and load data files\n",
    "###### task: import and load data\n",
    "We start off by importing packages and loading data"
   ]
  },
  {
   "cell_type": "code",
   "execution_count": null,
   "metadata": {
    "ExecuteTime": {
     "end_time": "2020-06-27T14:37:15.368213Z",
     "start_time": "2020-06-27T14:37:15.304046Z"
    },
    "colab": {},
    "colab_type": "code",
    "id": "7H5qhlVlJWS5"
   },
   "outputs": [],
   "source": [
    "# !pip install spacy\n",
    "# import spacy.cli\n",
    "# spacy.cli.download(\"en_core_web_lg\")\n",
    "\n",
    "# !pip install nltk\n",
    "# import nltk\n",
    "# nltk.download('all')\n",
    "\n",
    "# !pip install emoji\n",
    "# !pip install pickle"
   ]
  },
  {
   "cell_type": "code",
   "execution_count": null,
   "metadata": {
    "ExecuteTime": {
     "end_time": "2020-06-27T14:49:35.028550Z",
     "start_time": "2020-06-27T14:37:15.757435Z"
    },
    "colab": {
     "base_uri": "https://localhost:8080/",
     "height": 71
    },
    "colab_type": "code",
    "id": "vS1ren4VJWTF",
    "outputId": "ca4e8c7d-76fa-4a19-f524-64978b0f49f1"
   },
   "outputs": [
    {
     "name": "stderr",
     "output_type": "stream",
     "text": [
      "/usr/local/lib/python3.6/dist-packages/statsmodels/tools/_testing.py:19: FutureWarning: pandas.util.testing is deprecated. Use the functions in the public API at pandas.testing instead.\n",
      "  import pandas.util.testing as tm\n"
     ]
    }
   ],
   "source": [
    "# import packages\n",
    "import pandas as pd\n",
    "import numpy as np\n",
    "import pickle\n",
    "import bz2\n",
    "import _pickle as cPickle\n",
    "\n",
    "import matplotlib.pyplot as plt\n",
    "import seaborn as sns\n",
    "%matplotlib inline\n",
    "sns.set_style('darkgrid')\n",
    "\n",
    "import re\n",
    "import emoji\n",
    "import string\n",
    "import spacy\n",
    "import nltk\n",
    "from spacy import displacy\n",
    "from nltk.corpus import stopwords\n",
    "from nltk.stem import WordNetLemmatizer\n",
    "from nltk.tokenize import word_tokenize\n",
    "from nltk import TreebankWordTokenizer, SnowballStemmer\n",
    "\n",
    "nlp = spacy.load('en_core_web_lg')\n",
    "stop_words = stopwords.words('english')\n",
    "pd.set_option('display.max_colwidth', 500)\n",
    "\n",
    "import warnings\n",
    "warnings.filterwarnings(\"ignore\")"
   ]
  },
  {
   "cell_type": "code",
   "execution_count": null,
   "metadata": {
    "ExecuteTime": {
     "end_time": "2020-06-27T14:50:11.265684Z",
     "start_time": "2020-06-27T14:49:37.387761Z"
    },
    "colab": {},
    "colab_type": "code",
    "id": "eutmYMCVJWTQ"
   },
   "outputs": [],
   "source": [
    "# Load Data\n",
    "train_data = pd.read_csv('https://raw.githubusercontent.com/team-rm4-JHB-classificationpredict/team_rm4_JHB_classification/master/predict_deliverables/data/train.csv',index_col='tweetid')\n",
    "test_data = pd.read_csv('https://raw.githubusercontent.com/team-rm4-JHB-classificationpredict/team_rm4_JHB_classification/master/predict_deliverables/data/test.csv',index_col='tweetid')"
   ]
  },
  {
   "cell_type": "markdown",
   "metadata": {
    "colab_type": "text",
    "id": "m2ISrHKtJWTY"
   },
   "source": [
    "## Variable Descriptions\n",
    "\n",
    "- **sentiment**: Sentiment of tweet (pro, anti, neutral,news).\n",
    "\n",
    "- **message**: Tweet body (raw tweet).\n",
    "\n",
    "- **tweetid**: Twitter unique id (unique integer).\n",
    "\n",
    "## Target Variable (sentiment)\n",
    "-  **1 : Pro** --> the tweet supports the belief of a man-made climate change.\n",
    "-  **2 : News** --> the tweet links to factual news about climate change.\n",
    "-  **0 : Neutral** --> the tweet neither supports nor refutes the belief of a man-made climate change.\n",
    "- **-1 : Anti** --> the tweet does not believe in a man made climate change\n",
    "\n",
    "###### task: display the shape of the data sets\n",
    "Here we display the shape of both the test and the train data to get an understanding of the features in the data sets. Below, we can see that the train data has 15819 rows of tweets and 2 columns. The columns would be the sentiment as well as the message. However, the test data only has one column (message). From the models that will be trained, we should be able to create a sentiment column for the test data too. The entries for this column will be predicted from the train data."
   ]
  },
  {
   "cell_type": "code",
   "execution_count": null,
   "metadata": {
    "ExecuteTime": {
     "end_time": "2020-06-27T14:50:11.584064Z",
     "start_time": "2020-06-27T14:50:11.265684Z"
    },
    "colab": {
     "base_uri": "https://localhost:8080/",
     "height": 51
    },
    "colab_type": "code",
    "id": "wQki44AgJWTb",
    "outputId": "de081ae9-8bb3-4a8a-f9ee-3ea4df473ffe"
   },
   "outputs": [
    {
     "name": "stdout",
     "output_type": "stream",
     "text": [
      "Train data shape:\t(15819, 2)\n",
      "Test data shape:\t(10546, 1)\n"
     ]
    }
   ],
   "source": [
    "print(f'Train data shape:\\t{train_data.shape}\\nTest data shape:\\t{test_data.shape}')"
   ]
  },
  {
   "cell_type": "markdown",
   "metadata": {
    "colab_type": "text",
    "id": "B-RfswgIJWTp"
   },
   "source": [
    "###### task: Display the number of entries per category in the sentiment column\n",
    "This is done to try and understand the distribution of entries in the sentiment column. Given that this is our target variable (sentiment), it is important that the data is somewhat balanced to avoid bias towards the categories with higher entries. That is, to reduce the likelihood that predictions will classify tweets as the category with the most entries.\n",
    "\n",
    "Below we have created a dataframe that shows the number of entries per category and the percentage of those entries as a faction of the total entries."
   ]
  },
  {
   "cell_type": "code",
   "execution_count": null,
   "metadata": {
    "ExecuteTime": {
     "end_time": "2020-06-27T14:50:17.763071Z",
     "start_time": "2020-06-27T14:50:11.587035Z"
    },
    "colab": {
     "base_uri": "https://localhost:8080/",
     "height": 204
    },
    "colab_type": "code",
    "id": "NeWP5OtnJWTs",
    "outputId": "11e3cb7e-79d2-49cb-8ffa-af1054af7cc6"
   },
   "outputs": [
    {
     "data": {
      "text/html": [
       "<div>\n",
       "<style scoped>\n",
       "    .dataframe tbody tr th:only-of-type {\n",
       "        vertical-align: middle;\n",
       "    }\n",
       "\n",
       "    .dataframe tbody tr th {\n",
       "        vertical-align: top;\n",
       "    }\n",
       "\n",
       "    .dataframe thead th {\n",
       "        text-align: right;\n",
       "    }\n",
       "</style>\n",
       "<table border=\"1\" class=\"dataframe\">\n",
       "  <thead>\n",
       "    <tr style=\"text-align: right;\">\n",
       "      <th></th>\n",
       "      <th>no_of_entries</th>\n",
       "      <th>percentage</th>\n",
       "    </tr>\n",
       "    <tr>\n",
       "      <th>categories</th>\n",
       "      <th></th>\n",
       "      <th></th>\n",
       "    </tr>\n",
       "  </thead>\n",
       "  <tbody>\n",
       "    <tr>\n",
       "      <th>1</th>\n",
       "      <td>8530</td>\n",
       "      <td>0.54</td>\n",
       "    </tr>\n",
       "    <tr>\n",
       "      <th>2</th>\n",
       "      <td>3640</td>\n",
       "      <td>0.23</td>\n",
       "    </tr>\n",
       "    <tr>\n",
       "      <th>0</th>\n",
       "      <td>2353</td>\n",
       "      <td>0.15</td>\n",
       "    </tr>\n",
       "    <tr>\n",
       "      <th>-1</th>\n",
       "      <td>1296</td>\n",
       "      <td>0.08</td>\n",
       "    </tr>\n",
       "  </tbody>\n",
       "</table>\n",
       "</div>"
      ],
      "text/plain": [
       "            no_of_entries  percentage\n",
       "categories                           \n",
       " 1                   8530        0.54\n",
       " 2                   3640        0.23\n",
       " 0                   2353        0.15\n",
       "-1                   1296        0.08"
      ]
     },
     "execution_count": 7,
     "metadata": {
      "tags": []
     },
     "output_type": "execute_result"
    }
   ],
   "source": [
    "# count the entries per column and save them in a dataframe\n",
    "categories = train_data['sentiment'].value_counts().to_frame()\n",
    "categories.index.rename('categories',inplace=True)\n",
    "categories.rename({'sentiment':'no_of_entries'},axis=1,inplace=True)\n",
    "categories['percentage'] = [round(count/len(train_data),2) for count in categories['no_of_entries']]\n",
    "categories"
   ]
  },
  {
   "cell_type": "code",
   "execution_count": null,
   "metadata": {
    "ExecuteTime": {
     "end_time": "2020-06-27T14:50:30.177006Z",
     "start_time": "2020-06-27T14:50:17.800220Z"
    },
    "colab": {
     "base_uri": "https://localhost:8080/",
     "height": 350
    },
    "colab_type": "code",
    "id": "vlj1TG5UJWT7",
    "outputId": "74d85593-ffd9-44b0-988b-8a837264682a"
   },
   "outputs": [
    {
     "data": {
      "image/png": "[encoded data removed]",
      "text/plain": [
       "<Figure size 576x360 with 1 Axes>"
      ]
     },
     "metadata": {
      "tags": []
     },
     "output_type": "display_data"
    }
   ],
   "source": [
    "# plot a bar chart which shows the distribution of the entries\n",
    "plt.figure(figsize=(8,5))\n",
    "\n",
    "plt.bar(x=['1','2','0','-1'],height=categories['no_of_entries'])\n",
    "plt.title('Number of entries per category')\n",
    "plt.xlabel('Categories')\n",
    "plt.ylabel('Number of entries')\n",
    "plt.show()\n",
    "#del categories"
   ]
  },
  {
   "cell_type": "markdown",
   "metadata": {
    "colab_type": "text",
    "id": "GU6YinjiJWUC"
   },
   "source": [
    "As it can be seen above, the sentiment belonging to category 1 (Pro climate change belief) is significantly higher than the other categories. In comparison to category -1 (Anti climate change belief), if a model were to be trained with this two categories only, the model not be a good classifier as it would penalise the smaller category by predicting category 1 more often. In the data processing section of this notebook, we will look into methods like resampling to try and balance the distribution of the entries."
   ]
  },
  {
   "cell_type": "markdown",
   "metadata": {
    "colab_type": "text",
    "id": "LpP8uMCCJWUE"
   },
   "source": [
    "###### task: display the head of both the test and train data"
   ]
  },
  {
   "cell_type": "code",
   "execution_count": null,
   "metadata": {
    "ExecuteTime": {
     "end_time": "2020-06-27T14:50:30.551147Z",
     "start_time": "2020-06-27T14:50:30.180007Z"
    },
    "colab": {
     "base_uri": "https://localhost:8080/",
     "height": 269
    },
    "colab_type": "code",
    "id": "wcmLf3LjJWUF",
    "outputId": "4df59a58-5afb-4928-d80d-3a184ac67c13"
   },
   "outputs": [
    {
     "data": {
      "text/html": [
       "<div>\n",
       "<style scoped>\n",
       "    .dataframe tbody tr th:only-of-type {\n",
       "        vertical-align: middle;\n",
       "    }\n",
       "\n",
       "    .dataframe tbody tr th {\n",
       "        vertical-align: top;\n",
       "    }\n",
       "\n",
       "    .dataframe thead th {\n",
       "        text-align: right;\n",
       "    }\n",
       "</style>\n",
       "<table border=\"1\" class=\"dataframe\">\n",
       "  <thead>\n",
       "    <tr style=\"text-align: right;\">\n",
       "      <th></th>\n",
       "      <th>sentiment</th>\n",
       "      <th>message</th>\n",
       "    </tr>\n",
       "    <tr>\n",
       "      <th>tweetid</th>\n",
       "      <th></th>\n",
       "      <th></th>\n",
       "    </tr>\n",
       "  </thead>\n",
       "  <tbody>\n",
       "    <tr>\n",
       "      <th>625221</th>\n",
       "      <td>1</td>\n",
       "      <td>PolySciMajor EPA chief doesn't think carbon dioxide is main cause of global warming and.. wait, what!? https://t.co/yeLvcEFXkC via @mashable</td>\n",
       "    </tr>\n",
       "    <tr>\n",
       "      <th>126103</th>\n",
       "      <td>1</td>\n",
       "      <td>It's not like we lack evidence of anthropogenic global warming</td>\n",
       "    </tr>\n",
       "    <tr>\n",
       "      <th>698562</th>\n",
       "      <td>2</td>\n",
       "      <td>RT @RawStory: Researchers say we have three years to act on climate change before it’s too late https://t.co/WdT0KdUr2f https://t.co/Z0ANPT…</td>\n",
       "    </tr>\n",
       "    <tr>\n",
       "      <th>573736</th>\n",
       "      <td>1</td>\n",
       "      <td>#TodayinMaker# WIRED : 2016 was a pivotal year in the war on climate change https://t.co/44wOTxTLcD</td>\n",
       "    </tr>\n",
       "    <tr>\n",
       "      <th>466954</th>\n",
       "      <td>1</td>\n",
       "      <td>RT @SoyNovioDeTodas: It's 2016, and a racist, sexist, climate change denying bigot is leading in the polls. #ElectionNight</td>\n",
       "    </tr>\n",
       "  </tbody>\n",
       "</table>\n",
       "</div>"
      ],
      "text/plain": [
       "         sentiment                                                                                                                                       message\n",
       "tweetid                                                                                                                                                         \n",
       "625221           1  PolySciMajor EPA chief doesn't think carbon dioxide is main cause of global warming and.. wait, what!? https://t.co/yeLvcEFXkC via @mashable\n",
       "126103           1                                                                                It's not like we lack evidence of anthropogenic global warming\n",
       "698562           2  RT @RawStory: Researchers say we have three years to act on climate change before it’s too late https://t.co/WdT0KdUr2f https://t.co/Z0ANPT…\n",
       "573736           1                                           #TodayinMaker# WIRED : 2016 was a pivotal year in the war on climate change https://t.co/44wOTxTLcD\n",
       "466954           1                    RT @SoyNovioDeTodas: It's 2016, and a racist, sexist, climate change denying bigot is leading in the polls. #ElectionNight"
      ]
     },
     "execution_count": 9,
     "metadata": {
      "tags": []
     },
     "output_type": "execute_result"
    }
   ],
   "source": [
    "train_data.head()"
   ]
  },
  {
   "cell_type": "code",
   "execution_count": null,
   "metadata": {
    "ExecuteTime": {
     "end_time": "2020-06-27T14:50:30.987898Z",
     "start_time": "2020-06-27T14:50:30.775954Z"
    },
    "colab": {
     "base_uri": "https://localhost:8080/",
     "height": 269
    },
    "colab_type": "code",
    "id": "D2STanhqJWUQ",
    "outputId": "ae07a02b-8f17-45d8-f0f0-733e5fa0eccb"
   },
   "outputs": [
    {
     "data": {
      "text/html": [
       "<div>\n",
       "<style scoped>\n",
       "    .dataframe tbody tr th:only-of-type {\n",
       "        vertical-align: middle;\n",
       "    }\n",
       "\n",
       "    .dataframe tbody tr th {\n",
       "        vertical-align: top;\n",
       "    }\n",
       "\n",
       "    .dataframe thead th {\n",
       "        text-align: right;\n",
       "    }\n",
       "</style>\n",
       "<table border=\"1\" class=\"dataframe\">\n",
       "  <thead>\n",
       "    <tr style=\"text-align: right;\">\n",
       "      <th></th>\n",
       "      <th>message</th>\n",
       "    </tr>\n",
       "    <tr>\n",
       "      <th>tweetid</th>\n",
       "      <th></th>\n",
       "    </tr>\n",
       "  </thead>\n",
       "  <tbody>\n",
       "    <tr>\n",
       "      <th>169760</th>\n",
       "      <td>Europe will now be looking to China to make sure that it is not alone in fighting climate change… https://t.co/O7T8rCgwDq</td>\n",
       "    </tr>\n",
       "    <tr>\n",
       "      <th>35326</th>\n",
       "      <td>Combine this with the polling of staffers re climate change and womens' rights and you have a fascist state. https://t.co/ifrm7eexpj</td>\n",
       "    </tr>\n",
       "    <tr>\n",
       "      <th>224985</th>\n",
       "      <td>The scary, unimpeachable evidence that climate change is already here: https://t.co/yAedqcV9Ki #itstimetochange #climatechange @ZEROCO2_;..</td>\n",
       "    </tr>\n",
       "    <tr>\n",
       "      <th>476263</th>\n",
       "      <td>@Karoli @morgfair @OsborneInk @dailykos \\nPutin got to you too Jill ! \\nTrump doesn't believe in climate change at all \\nThinks it's s hoax</td>\n",
       "    </tr>\n",
       "    <tr>\n",
       "      <th>872928</th>\n",
       "      <td>RT @FakeWillMoore: 'Female orgasms cause global warming!'\\n-Sarcastic Republican</td>\n",
       "    </tr>\n",
       "  </tbody>\n",
       "</table>\n",
       "</div>"
      ],
      "text/plain": [
       "                                                                                                                                             message\n",
       "tweetid                                                                                                                                             \n",
       "169760                     Europe will now be looking to China to make sure that it is not alone in fighting climate change… https://t.co/O7T8rCgwDq\n",
       "35326           Combine this with the polling of staffers re climate change and womens' rights and you have a fascist state. https://t.co/ifrm7eexpj\n",
       "224985   The scary, unimpeachable evidence that climate change is already here: https://t.co/yAedqcV9Ki #itstimetochange #climatechange @ZEROCO2_;..\n",
       "476263   @Karoli @morgfair @OsborneInk @dailykos \\nPutin got to you too Jill ! \\nTrump doesn't believe in climate change at all \\nThinks it's s hoax\n",
       "872928                                                              RT @FakeWillMoore: 'Female orgasms cause global warming!'\\n-Sarcastic Republican"
      ]
     },
     "execution_count": 10,
     "metadata": {
      "tags": []
     },
     "output_type": "execute_result"
    }
   ],
   "source": [
    "test_data.head()"
   ]
  },
  {
   "cell_type": "markdown",
   "metadata": {
    "colab_type": "text",
    "id": "pdzjCDEVJWUZ"
   },
   "source": [
    "## Missing Values\n",
    "In this section we will be looking out for any missing values (i.e: np.nan values) and or all the tweets that are just empty strings.\n",
    "- In the code cell below, we can see that no column of the train data has np.nan values."
   ]
  },
  {
   "cell_type": "code",
   "execution_count": null,
   "metadata": {
    "ExecuteTime": {
     "end_time": "2020-06-27T14:50:32.559884Z",
     "start_time": "2020-06-27T14:50:30.991920Z"
    },
    "colab": {
     "base_uri": "https://localhost:8080/",
     "height": 111
    },
    "colab_type": "code",
    "id": "JmApt1FjJWUb",
    "outputId": "969b4ffe-c682-4a35-88b6-d36e28e897b0"
   },
   "outputs": [
    {
     "data": {
      "text/html": [
       "<div>\n",
       "<style scoped>\n",
       "    .dataframe tbody tr th:only-of-type {\n",
       "        vertical-align: middle;\n",
       "    }\n",
       "\n",
       "    .dataframe tbody tr th {\n",
       "        vertical-align: top;\n",
       "    }\n",
       "\n",
       "    .dataframe thead th {\n",
       "        text-align: right;\n",
       "    }\n",
       "</style>\n",
       "<table border=\"1\" class=\"dataframe\">\n",
       "  <thead>\n",
       "    <tr style=\"text-align: right;\">\n",
       "      <th></th>\n",
       "      <th>mising_values</th>\n",
       "    </tr>\n",
       "  </thead>\n",
       "  <tbody>\n",
       "    <tr>\n",
       "      <th>sentiment</th>\n",
       "      <td>0</td>\n",
       "    </tr>\n",
       "    <tr>\n",
       "      <th>message</th>\n",
       "      <td>0</td>\n",
       "    </tr>\n",
       "  </tbody>\n",
       "</table>\n",
       "</div>"
      ],
      "text/plain": [
       "           mising_values\n",
       "sentiment              0\n",
       "message                0"
      ]
     },
     "execution_count": 11,
     "metadata": {
      "tags": []
     },
     "output_type": "execute_result"
    }
   ],
   "source": [
    "pd.DataFrame(train_data.isnull().sum(),columns=['mising_values'])"
   ]
  },
  {
   "cell_type": "markdown",
   "metadata": {
    "colab_type": "text",
    "id": "kxz6VWNiJWUl"
   },
   "source": [
    "- Here we seek to remove any empty strings from the 'message' column."
   ]
  },
  {
   "cell_type": "code",
   "execution_count": null,
   "metadata": {
    "ExecuteTime": {
     "end_time": "2020-06-27T14:50:33.632647Z",
     "start_time": "2020-06-27T14:50:32.564582Z"
    },
    "colab": {
     "base_uri": "https://localhost:8080/",
     "height": 51
    },
    "colab_type": "code",
    "id": "usMtIvMUJWUn",
    "outputId": "3dba12c1-2e34-425a-823a-f5c0562fc677"
   },
   "outputs": [
    {
     "name": "stdout",
     "output_type": "stream",
     "text": [
      "Length before check:\t15819\n",
      "Length after check:\t15819\n"
     ]
    }
   ],
   "source": [
    "print(f\"Length before check:\\t{len(train_data)}\")\n",
    "\n",
    "blanks = [] # store the indices of the space's tweets\n",
    "\n",
    "for index, sent, mess in train_data.itertuples():\n",
    "    if type(mess)==str:\n",
    "        if mess.isspace():\n",
    "            blanks.append(index)\n",
    "\n",
    "# drop rows from dataframe if there are any empty tweets/strings            \n",
    "train_data.drop(blanks,axis=0,inplace=True)\n",
    "\n",
    "print(f\"Length after check:\\t{len(train_data)}\")"
   ]
  },
  {
   "cell_type": "markdown",
   "metadata": {
    "colab_type": "text",
    "id": "kYK_A7hiJWU2"
   },
   "source": [
    "As it can be seen from the above, there aren't any np.nan values nor are there any empty strings from the train_data dataframe.\n",
    "What we are going to explore next is if there are any tweets that might not be sufficient in length to form an english sentence (say a tweet with one, two or maybe even three words)."
   ]
  },
  {
   "cell_type": "code",
   "execution_count": null,
   "metadata": {
    "ExecuteTime": {
     "end_time": "2020-06-27T14:50:33.751016Z",
     "start_time": "2020-06-27T14:50:33.644266Z"
    },
    "colab": {
     "base_uri": "https://localhost:8080/",
     "height": 51
    },
    "colab_type": "code",
    "id": "lAg62krQJWU4",
    "outputId": "12b0d963-436f-48b6-f280-b311a8e23c1e"
   },
   "outputs": [
    {
     "name": "stdout",
     "output_type": "stream",
     "text": [
      "Number of tweets that might not form an english sentence:\n",
      "      0\n"
     ]
    }
   ],
   "source": [
    "print(f'''Number of tweets that might not form an english sentence:\n",
    "      {len([tweet for tweet in train_data.message if len(tweet)<=5])}''')"
   ]
  },
  {
   "cell_type": "code",
   "execution_count": null,
   "metadata": {
    "ExecuteTime": {
     "end_time": "2020-06-27T14:50:34.096565Z",
     "start_time": "2020-06-27T14:50:33.754011Z"
    },
    "colab": {},
    "colab_type": "code",
    "id": "X8Ien8W6JWVC"
   },
   "outputs": [],
   "source": [
    "# all_tokens = []\n",
    "\n",
    "# bag_of_words = {}\n",
    "\n",
    "# for tweet in train_data.message:\n",
    "    \n",
    "#     for word in nlp(tweet):\n",
    "#         if word.text not in frequency.keys():\n",
    "#             frequency[word.text] = 1\n",
    "            \n",
    "#             if word.text not in all_tokens:\n",
    "#                 all_tokens.append(token.text)\n",
    "#         else:\n",
    "#             frequency[word.text] += 1\n",
    "            \n",
    "#             if word.text not in all_tokens:\n",
    "#                 all_tokens.append(token.text)"
   ]
  },
  {
   "cell_type": "markdown",
   "metadata": {
    "colab_type": "text",
    "id": "l1F4x4sVJWVH"
   },
   "source": [
    "###### Conclude\n",
    "In this section we managed to import packages, load data, descibe the features and the target variable. We have also managed to look at the head (top five entries) of the dataframes. We have looked at the possibility of empty strings, np.nan values and even tweets (messages) that might not be sufficient enough to form an english sentence that makes sense. After this exploration, we have't performed any transformation on the data.\n",
    "\n",
    "Before we go into any Data transformation or hyperparameter tunning, we fit models with the raw data. Once we have looked at the models before any preprocessing, we will then explore different methods of how we can go about preprocessing our data to better improve the performance of our models."
   ]
  },
  {
   "cell_type": "markdown",
   "metadata": {
    "colab_type": "text",
    "id": "aP5TDfSEJWVI"
   },
   "source": [
    "# Base Models\n",
    "Train models with minimal data preprocessing.\n",
    "Given the nature of the feature (message column), we will apply the term frequency–inverse document frequency Vectorizer (TfidfVectorizer) to the data so that it can be converted to a matrix of TF-IDF features, which are numerical and a machine learning algorithm can understand.\n",
    "\n",
    "**Models to be trained**:\n",
    "- Logistic Regression\n",
    "- Support Vector Classification (SVC)\n",
    "- Linear SVC\n",
    "- Multinomial Naive Bayes classifier\n",
    "- Random Forest Classifier\n",
    "- Neural Network Sequence model\n",
    "- K Nearest Neighbors Classifier\n",
    "- Ada Boost Classifier\n",
    "- Gradient Boost Classifier\n",
    "\n",
    "\n",
    "All of the above models will be trained through pipelines.\n",
    "\n",
    "###### task: import packages\n",
    "Import packages that will make the modelling possible."
   ]
  },
  {
   "cell_type": "code",
   "execution_count": null,
   "metadata": {
    "ExecuteTime": {
     "end_time": "2020-06-27T14:50:36.576649Z",
     "start_time": "2020-06-27T14:50:34.099679Z"
    },
    "colab": {
     "base_uri": "https://localhost:8080/",
     "height": 34
    },
    "colab_type": "code",
    "id": "lUBm7GxoJWVI",
    "outputId": "8a893672-c38a-487c-ea4f-e101b94cc8df"
   },
   "outputs": [
    {
     "name": "stderr",
     "output_type": "stream",
     "text": [
      "Using TensorFlow backend.\n"
     ]
    }
   ],
   "source": [
    "from keras import Sequential\n",
    "from keras.utils import to_categorical\n",
    "from keras.callbacks import EarlyStopping\n",
    "from keras.preprocessing.text import Tokenizer\n",
    "from keras.preprocessing.sequence import pad_sequences\n",
    "from sklearn.feature_extraction.text import TfidfVectorizer\n",
    "from keras.layers import Embedding, SpatialDropout1D, LSTM, Dense, Dropout\n",
    "\n",
    "from sklearn.pipeline import Pipeline\n",
    "from sklearn.svm import LinearSVC, SVC\n",
    "from sklearn.naive_bayes import MultinomialNB\n",
    "from sklearn.neighbors import KNeighborsClassifier\n",
    "from sklearn.linear_model import LogisticRegression\n",
    "from sklearn.ensemble import RandomForestClassifier\n",
    "from sklearn.ensemble import AdaBoostClassifier, GradientBoostingClassifier\n",
    "\n",
    "from sklearn.metrics import classification_report,accuracy_score\n",
    "from sklearn.model_selection import train_test_split, GridSearchCV"
   ]
  },
  {
   "cell_type": "markdown",
   "metadata": {
    "colab_type": "text",
    "id": "MFPYrKniJWVQ"
   },
   "source": [
    "## Split the data\n",
    "Split the train_data into training and testing data. This is to make sure that there isn't any leakage of information when we actually fit the test_data that we imported. To avoid overfitting, we are using the train_data to train and test our models."
   ]
  },
  {
   "cell_type": "code",
   "execution_count": null,
   "metadata": {
    "ExecuteTime": {
     "end_time": "2020-06-27T14:50:38.749895Z",
     "start_time": "2020-06-27T14:50:36.581812Z"
    },
    "colab": {},
    "colab_type": "code",
    "id": "-M_yV82UJWVV"
   },
   "outputs": [],
   "source": [
    "# split into dependent and independent arrays\n",
    "X = train_data['message'].values\n",
    "y = train_data['sentiment'].values\n",
    "\n",
    "# split into training and testing data\n",
    "X_train, X_test, y_train, y_test = train_test_split(X, y, test_size=0.3, random_state=4)"
   ]
  },
  {
   "cell_type": "markdown",
   "metadata": {
    "colab_type": "text",
    "id": "tCszC36gJWVd"
   },
   "source": [
    "## Create pipelines\n",
    "###### task: create pipelines with a vectorizer.\n",
    "The pipelines created here are to be used to train the specified models above. The pipelines will apply the TfidfVectorizer to the training data before it fits the model. The TfidfVectorizer will tokenize the tweets, learn the vocabulary and inverse document frequency weightings to create numeric vectors which can be understood by prediction models."
   ]
  },
  {
   "cell_type": "code",
   "execution_count": null,
   "metadata": {
    "ExecuteTime": {
     "end_time": "2020-06-27T14:50:40.625663Z",
     "start_time": "2020-06-27T14:50:38.749895Z"
    },
    "colab": {},
    "colab_type": "code",
    "id": "i9hEdLS8JWVf"
   },
   "outputs": [],
   "source": [
    "# SVC pipeline\n",
    "svc_clf = Pipeline([('vectorizer',TfidfVectorizer()),('SVC',SVC())])\n",
    "\n",
    "# LinearSVC pipeline\n",
    "linear_svc_clf = Pipeline([('vectorizer',TfidfVectorizer()),\n",
    "                            ('Linear_SVC',LinearSVC())])\n",
    "\n",
    "# Random Forest Classiffier pipeline\n",
    "random_f_clf = Pipeline([('vectorizer',TfidfVectorizer()),\n",
    "                         ('Random_Forest',RandomForestClassifier())])\n",
    "\n",
    "# MultinomialNB pipeline\n",
    "multinom_clf = Pipeline([('vectorizer',TfidfVectorizer()),('Multinomial',\n",
    "                                                    MultinomialNB())])\n",
    "\n",
    "# logistic Regression pipeline\n",
    "logistic_clf = Pipeline([('vectorizer',TfidfVectorizer()),('Logistic_regr',\n",
    "                                LogisticRegression(multi_class='ovr'))])\n",
    "\n",
    "# K Neighbors Classifier\n",
    "k_near_clf = Pipeline([('vectorizer',TfidfVectorizer()),('KNeighbors',\n",
    "                                        KNeighborsClassifier(n_jobs=2))])\n",
    "\n",
    "# Ada Boost Classifier\n",
    "ada_boost_clf = Pipeline([('vectorizer',TfidfVectorizer()),('AdaBoost',\n",
    "                                                AdaBoostClassifier())])\n",
    "\n",
    "# Gradient Boost Classifier\n",
    "gboost_clf = Pipeline([('vectorizer',TfidfVectorizer()),('GradientBoost',\n",
    "                                                GradientBoostingClassifier())])"
   ]
  },
  {
   "cell_type": "markdown",
   "metadata": {
    "colab_type": "text",
    "id": "JJU4L58LJWVp"
   },
   "source": [
    "## Train base models\n",
    "In this section we define functions that tests the five models mentioned above (logistic regression, svc, linear svc, multinomial naive's Bayes, the random classifier and a Neural Network with muliple layers). Once the models are trained, we return a performance dataframe with the weighted average F1 scores as well as the accuracy scores of the models trained. We are interested in the performance of the weighted average f1 score as it adjusts for the precision and the recall scores. The functions will also return the trained models so that they can be used to evaluate other metrices."
   ]
  },
  {
   "cell_type": "code",
   "execution_count": null,
   "metadata": {
    "colab": {},
    "colab_type": "code",
    "id": "xQWx__PNZpmk"
   },
   "outputs": [],
   "source": [
    "# create a dictionary of all the untrained models\n",
    "train_models = {'Logistic_regression':logistic_clf,\n",
    "                  'SVC':svc_clf,'LinearSVC':linear_svc_clf,\n",
    "                  'MultinomialNB':multinom_clf,'Random_Forest':random_f_clf,\n",
    "                  'KNeighbors':k_near_clf, 'AdaBoost':ada_boost_clf,\n",
    "                  'GradientBoost':gboost_clf}"
   ]
  },
  {
   "cell_type": "code",
   "execution_count": null,
   "metadata": {
    "ExecuteTime": {
     "end_time": "2020-06-27T14:50:41.198654Z",
     "start_time": "2020-06-27T14:50:40.722463Z"
    },
    "colab": {},
    "colab_type": "code",
    "id": "4P_w4c3DJWVq"
   },
   "outputs": [],
   "source": [
    "def models_to_train(X_train,X_test,y_train,y_test,train_models):\n",
    "    '''\n",
    "    Train models and return a dataframe of their perfomance. The function\n",
    "    also returns the trained models for later use.\n",
    "    \n",
    "    Parameters\n",
    "    ----------\n",
    "    X_train : numpy array\n",
    "        A numpy array of the shape (len(X_train), n), where n is any integer\n",
    "        greater than 0.\n",
    "    X_test : numpy array\n",
    "        A numpy array of the shape (len(X_test), n), where n is any integer\n",
    "        greater than 0.\n",
    "    y_train : numpy array\n",
    "        A numpy array of the shape(len(y_train),), with the values being the\n",
    "        categories or target values.\n",
    "    \n",
    "    y_train : numpy array\n",
    "        A numpy array of the shape(len(y_train),), with the values being the\n",
    "        categories or target values\n",
    "    trained_models : dict\n",
    "       A dictionary of untrained models/pipelines.\n",
    "\n",
    "    Returns\n",
    "    -------\n",
    "    dataframe : pandas.core.frame.DataFrame\n",
    "        A pandas dataframe with two columns; weighted average f1 score and the\n",
    "        accuracy score of each model.\n",
    "    dictionary : dict\n",
    "        A dictionary of all the trained models\n",
    "    '''\n",
    "    trained_models = train_models.copy()\n",
    "    performance = {} # dictionary to store performance\n",
    "    i = 1\n",
    "    \n",
    "    for name,model in trained_models.items():\n",
    "        \n",
    "        print(f'Training model {i} of {len(trained_models)}: {name}')\n",
    "        i+=1\n",
    "        # fit the model\n",
    "        model.fit(X_train, y_train)\n",
    "        \n",
    "        # prediction of y\n",
    "        y_predicted = model.predict(X_test)\n",
    "\n",
    "        # calculate the weighted average score and the accuracy score.\n",
    "        weighted_avg = classification_report(y_test,y_predicted)[-15:-11]\n",
    "        acc_score = accuracy_score(y_test,y_predicted)\n",
    "\n",
    "        performance[name] = {'weighted_average':float(weighted_avg),\n",
    "                            'accuracy_score':round(acc_score,4)}\n",
    "\n",
    "        #print(f\"{name}:\\n{classification_report(y_test,y_predicted)}\\n\")\n",
    "    \n",
    "    # convert the performance dictionary to a dataframe\n",
    "    performance = pd.DataFrame(performance).T.sort_values(by='weighted_average',\n",
    "                                                          ascending=False)\n",
    "    \n",
    "    return performance, trained_models"
   ]
  },
  {
   "cell_type": "markdown",
   "metadata": {
    "colab_type": "text",
    "id": "GWXTXn64JWVx"
   },
   "source": [
    "The function above trains the logistic regression, svc, linear svc, multinomialNB and the random forest classiffier. The code cell below applies the above defined function:"
   ]
  },
  {
   "cell_type": "code",
   "execution_count": null,
   "metadata": {
    "ExecuteTime": {
     "end_time": "2020-06-27T14:54:40.146326Z",
     "start_time": "2020-06-27T14:50:41.202898Z"
    },
    "colab": {
     "base_uri": "https://localhost:8080/",
     "height": 153
    },
    "colab_type": "code",
    "id": "EGT2XVAQJWVz",
    "outputId": "b839fe0e-394a-43bc-f31b-79bcc171cc38"
   },
   "outputs": [
    {
     "name": "stdout",
     "output_type": "stream",
     "text": [
      "Training model 1 of 8: Logistic_regression\n",
      "Training model 2 of 8: SVC\n",
      "Training model 3 of 8: LinearSVC\n",
      "Training model 4 of 8: MultinomialNB\n",
      "Training model 5 of 8: Random_Forest\n",
      "Training model 6 of 8: KNeighbors\n",
      "Training model 7 of 8: AdaBoost\n",
      "Training model 8 of 8: GradientBoost\n"
     ]
    }
   ],
   "source": [
    "# run the function to train the models\n",
    "performance, trained_models = models_to_train(X_train,X_test,y_train,y_test,\n",
    "                                              train_models)"
   ]
  },
  {
   "cell_type": "markdown",
   "metadata": {
    "colab_type": "text",
    "id": "UaSQNTL8JWV6"
   },
   "source": [
    "###### task: define a neural network function\n",
    "The neural network will use the Sequential method with a maximum number of words of 50000, maximum sequence of 250 and an embedding of 100. The function will first tokenize the data, split it accordingly and then train a Sequencial model. We will be doing a recurrent network. This is done to make sure that there is little to no linearity in the features that are used to train the model. Once the model has been trained, we return a dataframe of the weighted average f1 score as well as the accuracy score. Like the previous function, we will be returning the trained model too so that it can be reused later if need be"
   ]
  },
  {
   "cell_type": "code",
   "execution_count": null,
   "metadata": {
    "ExecuteTime": {
     "end_time": "2020-06-27T14:54:42.382313Z",
     "start_time": "2020-06-27T14:54:40.146326Z"
    },
    "colab": {},
    "colab_type": "code",
    "id": "1X01ax3lJWV7"
   },
   "outputs": [],
   "source": [
    "def sequence_model(df,performance,col='message',epochs=5):\n",
    "    '''\n",
    "    Return a dataframe of performance and a trained model.\n",
    "    \n",
    "    Parameters\n",
    "    ----------\n",
    "    df : pandas.core.frame.DataFrame\n",
    "        A pandas dataframe with the columns 'sequence' and 'message'.\n",
    "    \n",
    "    performance : pandas.core.frame.DataFrame\n",
    "        A pandas dataframe with performance metrices for previously\n",
    "        trained models.\n",
    "        \n",
    "    Returns\n",
    "    -------\n",
    "    dataframe : pandas.core.frame.DataFrame\n",
    "        A performance dataframe with the weighted f1 scores and the \n",
    "        accuracy score of each model trained.\n",
    "    keras model : keras.engine.sequential.Sequential\n",
    "        A sequential model that can be used for predictions.\n",
    "    '''\n",
    "    \n",
    "    max_no_words, max_sequence, embedding = 50000, 250, 100\n",
    "\n",
    "    tokenizer = Tokenizer(num_words=max_no_words)\n",
    "    tokenizer.fit_on_texts(df[col].values)\n",
    "    word_index  = tokenizer.word_index\n",
    "\n",
    "    X = tokenizer.texts_to_sequences(df[col].values)\n",
    "    X = pad_sequences(X,maxlen=max_sequence)\n",
    "\n",
    "    y = to_categorical(df['sentiment'].values,num_classes=4)\n",
    "\n",
    "    X_train, X_test, y_train, y_test = train_test_split(X, y, test_size=0.3,\n",
    "                                                        random_state=4)\n",
    "    \n",
    "    # instantiate a sequential model.\n",
    "    model = Sequential()\n",
    "    \n",
    "    # add layers to the model\n",
    "    model.add(Embedding(max_no_words,embedding,input_length=X.shape[1]))\n",
    "    model.add(SpatialDropout1D(0.2))\n",
    "    model.add(LSTM(100,dropout=0.2,recurrent_dropout=0.2))\n",
    "    model.add(Dense(4,activation='softmax'))\n",
    "    model.compile(loss='categorical_crossentropy',optimizer='adam',\n",
    "                  metrics=['accuracy'])\n",
    "\n",
    "    # fit the model with 6 epochs of batxh size 50.\n",
    "    model.fit(X_train,y_train,epochs=epochs,batch_size=50,\n",
    "            callbacks=[EarlyStopping(monitor='val_loss',\n",
    "            patience=3, min_delta=0.0001)],verbose=1,validation_split=0.1)\n",
    "    \n",
    "    # make predictions\n",
    "    y_predicted = model.predict(X_test)\n",
    "    y_predicted = y_predicted.argmax(axis=1)\n",
    "    y_test=y_test.argmax(axis=1)\n",
    "\n",
    "    # calculate performance matrices\n",
    "    weighted_avg = classification_report(y_test,y_predicted)[-15:-11]\n",
    "    acc_score = accuracy_score(y_test,y_predicted)\n",
    "    \n",
    "    model_performance = pd.Series(data={'weighted_average':weighted_avg,\n",
    "                      'accuracy_score':acc_score},name='Sequential')\n",
    "    \n",
    "    performance = performance.append(model_performance,\n",
    "                                     ignore_index=False).astype('float')\n",
    "    \n",
    "    performance = performance.sort_values(by='weighted_average',ascending=False)\n",
    "    \n",
    "    return performance, model"
   ]
  },
  {
   "cell_type": "markdown",
   "metadata": {
    "colab_type": "text",
    "id": "-mcb1RTcJWWA"
   },
   "source": [
    "Apply the function above and add the returned model to the trained models dictionary returned by the models_to_train() function. Due to the time it takes for the model to train, we have saved it as a .pbz2 file (compressed pickle file). Here we simply load the model."
   ]
  },
  {
   "cell_type": "code",
   "execution_count": null,
   "metadata": {
    "ExecuteTime": {
     "end_time": "2020-06-27T15:19:35.918492Z",
     "start_time": "2020-06-27T14:54:42.382313Z"
    },
    "colab": {},
    "colab_type": "code",
    "id": "uiOr5LUMJWWC"
   },
   "outputs": [],
   "source": [
    "performance, model = sequence_model(train_data,performance)\n",
    "trained_models['Sequential'] = model"
   ]
  },
  {
   "cell_type": "markdown",
   "metadata": {
    "colab_type": "text",
    "id": "gazJ2VgYS-VN"
   },
   "source": [
    "Execute the code cell below."
   ]
  },
  {
   "cell_type": "code",
   "execution_count": null,
   "metadata": {
    "colab": {},
    "colab_type": "code",
    "id": "YHRqRblcOqLO"
   },
   "outputs": [],
   "source": [
    "# # save the model\n",
    "# # with bz2.BZ2File(\"base_sequence.pbz2\", \"wb\") as f:\n",
    "# #     cPickle.dump(model, f)\n",
    "\n",
    "# # load the saved model and add it to the trained_models dictionary\n",
    "# # model = cPickle.load(bz2.BZ2File(\"base_sequence.pbz2\", \"rb\"))\n",
    "# # trained_models['Sequential'] = model\n",
    "\n",
    "# # save the performance dataframe and load it.\n",
    "# # performance.to_csv('base_performance.csv')\n",
    "# performance = pd.read_csv('https://raw.githubusercontent.com/team-rm4-JHB-classificationpredict/team_rm4_JHB_classification/master/predict_deliverables/data/base_performance.csv',index_col=0)"
   ]
  },
  {
   "cell_type": "markdown",
   "metadata": {
    "colab_type": "text",
    "id": "OQSrJdDuJWWI"
   },
   "source": [
    "## Performance Evaluation\n",
    "The dataframe displayed below shows the weighted average f1 score and the accuracy scores for all the base models that have been trained. The LinearSVC model has outperformed all the base models. This is followed by the Sequential neural network model.\n"
   ]
  },
  {
   "cell_type": "code",
   "execution_count": null,
   "metadata": {
    "ExecuteTime": {
     "end_time": "2020-06-27T15:19:35.987830Z",
     "start_time": "2020-06-27T15:19:35.950754Z"
    },
    "colab": {
     "base_uri": "https://localhost:8080/",
     "height": 328
    },
    "colab_type": "code",
    "id": "fn-8BX83JWWJ",
    "outputId": "264c79e2-c37a-4d83-b1d4-0286ae7b8fa4"
   },
   "outputs": [
    {
     "data": {
      "text/html": [
       "<div>\n",
       "<style scoped>\n",
       "    .dataframe tbody tr th:only-of-type {\n",
       "        vertical-align: middle;\n",
       "    }\n",
       "\n",
       "    .dataframe tbody tr th {\n",
       "        vertical-align: top;\n",
       "    }\n",
       "\n",
       "    .dataframe thead th {\n",
       "        text-align: right;\n",
       "    }\n",
       "</style>\n",
       "<table border=\"1\" class=\"dataframe\">\n",
       "  <thead>\n",
       "    <tr style=\"text-align: right;\">\n",
       "      <th></th>\n",
       "      <th>weighted_average</th>\n",
       "      <th>accuracy_score</th>\n",
       "    </tr>\n",
       "  </thead>\n",
       "  <tbody>\n",
       "    <tr>\n",
       "      <th>LinearSVC</th>\n",
       "      <td>0.74</td>\n",
       "      <td>0.75010</td>\n",
       "    </tr>\n",
       "    <tr>\n",
       "      <th>Sequential</th>\n",
       "      <td>0.72</td>\n",
       "      <td>0.72145</td>\n",
       "    </tr>\n",
       "    <tr>\n",
       "      <th>SVC</th>\n",
       "      <td>0.70</td>\n",
       "      <td>0.72730</td>\n",
       "    </tr>\n",
       "    <tr>\n",
       "      <th>Logistic_regression</th>\n",
       "      <td>0.69</td>\n",
       "      <td>0.71660</td>\n",
       "    </tr>\n",
       "    <tr>\n",
       "      <th>Random_Forest</th>\n",
       "      <td>0.67</td>\n",
       "      <td>0.70160</td>\n",
       "    </tr>\n",
       "    <tr>\n",
       "      <th>KNeighbors</th>\n",
       "      <td>0.66</td>\n",
       "      <td>0.67210</td>\n",
       "    </tr>\n",
       "    <tr>\n",
       "      <th>GradientBoost</th>\n",
       "      <td>0.66</td>\n",
       "      <td>0.68460</td>\n",
       "    </tr>\n",
       "    <tr>\n",
       "      <th>AdaBoost</th>\n",
       "      <td>0.61</td>\n",
       "      <td>0.63230</td>\n",
       "    </tr>\n",
       "    <tr>\n",
       "      <th>MultinomialNB</th>\n",
       "      <td>0.52</td>\n",
       "      <td>0.61930</td>\n",
       "    </tr>\n",
       "  </tbody>\n",
       "</table>\n",
       "</div>"
      ],
      "text/plain": [
       "                     weighted_average  accuracy_score\n",
       "LinearSVC                        0.74         0.75010\n",
       "Sequential                       0.72         0.72145\n",
       "SVC                              0.70         0.72730\n",
       "Logistic_regression              0.69         0.71660\n",
       "Random_Forest                    0.67         0.70160\n",
       "KNeighbors                       0.66         0.67210\n",
       "GradientBoost                    0.66         0.68460\n",
       "AdaBoost                         0.61         0.63230\n",
       "MultinomialNB                    0.52         0.61930"
      ]
     },
     "execution_count": 24,
     "metadata": {
      "tags": []
     },
     "output_type": "execute_result"
    }
   ],
   "source": [
    "performance"
   ]
  },
  {
   "cell_type": "markdown",
   "metadata": {
    "colab_type": "text",
    "id": "lj7AH5z8JWWR"
   },
   "source": [
    "The accuracy score is consistently above the the weighted average f1 score for all the models that have been trained. This can be attributed to the imbalance in the entries of the sentiment column in the original data. This will however be explored in the nect section as we preprocess our data to try and improve the performance of our model.\n",
    "\n",
    "From the models that we have trained by far, the LinearSVC is currently outperforming all the other models that have been trained on the same data. We will however opt to work on improving the performance of all our models in an attempt to get a model that will perform best."
   ]
  },
  {
   "cell_type": "code",
   "execution_count": null,
   "metadata": {
    "ExecuteTime": {
     "end_time": "2020-06-27T15:19:36.686887Z",
     "start_time": "2020-06-27T15:19:35.992805Z"
    },
    "colab": {},
    "colab_type": "code",
    "id": "ws5bYVFoJWWT"
   },
   "outputs": [],
   "source": [
    "def model_scores(performance):\n",
    "    '''Create a bar chart of the weighted f1 score and the accuracy score.'''\n",
    "    \n",
    "    x = list(performance.index)\n",
    "    height = [i*100 for i in performance.weighted_average]\n",
    "    fig= plt.figure(figsize=(12,6))\n",
    "    plt.bar(x,height,label='weighted_avg',)\n",
    "    plt.bar(x,height=[i*100 for i in performance.accuracy_score],alpha=0.2,label='accuracy')\n",
    "    plt.title('Weighted Average F1 score')\n",
    "    plt.xlabel('Models')\n",
    "    plt.ylabel('Weighted Avg in %')\n",
    "    plt.legend()\n",
    "    plt.xticks(rotation=45)\n",
    "    \n",
    "    return fig"
   ]
  },
  {
   "cell_type": "code",
   "execution_count": null,
   "metadata": {
    "ExecuteTime": {
     "end_time": "2020-06-27T15:19:39.387442Z",
     "start_time": "2020-06-27T15:19:36.690870Z"
    },
    "colab": {
     "base_uri": "https://localhost:8080/",
     "height": 469
    },
    "colab_type": "code",
    "id": "_7M0-SmnJWWY",
    "outputId": "04e5ee14-d820-4a26-fcf1-60ba8b6da020"
   },
   "outputs": [
    {
     "data": {
      "image/png": "[encoded data removed]",
      "text/plain": [
       "<Figure size 864x432 with 1 Axes>"
      ]
     },
     "metadata": {
      "tags": []
     },
     "output_type": "display_data"
    }
   ],
   "source": [
    "_ = model_scores(performance)"
   ]
  },
  {
   "cell_type": "markdown",
   "metadata": {
    "colab_type": "text",
    "id": "giuNlZtTJWWc"
   },
   "source": [
    "###### task: visualize at the distribution of the classifications of all the trained models\n",
    "In this section we are looking at how the models have distributed the classifications across the sentiment entries. We start off by creating a dataframe that stores the counts of each classification."
   ]
  },
  {
   "cell_type": "code",
   "execution_count": null,
   "metadata": {
    "ExecuteTime": {
     "end_time": "2020-06-27T15:19:39.798083Z",
     "start_time": "2020-06-27T15:19:39.627285Z"
    },
    "colab": {},
    "colab_type": "code",
    "id": "7lSaHDmbJWWf"
   },
   "outputs": [],
   "source": [
    "def distribution_of_sentiment(trained_models,X_test):\n",
    "    '''Create a pandas dataframe with the counts of each classification per model.\n",
    "    \n",
    "    Parameters\n",
    "    ----------\n",
    "    trained_models : dict\n",
    "        A dictionary of trained models.\n",
    "    X_test : numpy array\n",
    "        A numpy array with the 'message' content from the train dataframe.\n",
    "        \n",
    "    Returns\n",
    "    -------\n",
    "    dataframe: pandas.core.frame.DataFrame\n",
    "        A pandas dataframe with the count of classifications per model.\n",
    "    '''\n",
    "    \n",
    "    predictions = pd.DataFrame(trained_models['Logistic_regression'].predict(X_test),\n",
    "                               columns=['Logistic_regression'])\n",
    "    predictions = pd.DataFrame(predictions['Logistic_regression'].value_counts())\n",
    "\n",
    "    for name in trained_models.keys():\n",
    "\n",
    "        if name != 'Sequential':\n",
    "            predictions[name] = pd.Series(trained_models[name].predict(X_test)).value_counts()\n",
    "\n",
    "        else:\n",
    "            tokenizer = Tokenizer(num_words=50000)\n",
    "            tokenizer.fit_on_texts(X_test)\n",
    "\n",
    "            seq = trained_models[name].predict(pad_sequences(\n",
    "                    tokenizer.texts_to_sequences(X_test),maxlen=250)).argmax(axis=1)\n",
    "\n",
    "            data = []\n",
    "            for x in seq:\n",
    "                if x !=3:\n",
    "                    data.append(x)\n",
    "                else:\n",
    "                    data.append(-1)\n",
    "\n",
    "            predictions[name] = pd.Series(data).value_counts()\n",
    "            \n",
    "    predictions.fillna(0,inplace=True)\n",
    "    \n",
    "    return predictions"
   ]
  },
  {
   "cell_type": "code",
   "execution_count": null,
   "metadata": {
    "ExecuteTime": {
     "end_time": "2020-06-27T15:20:31.851015Z",
     "start_time": "2020-06-27T15:19:39.826842Z"
    },
    "colab": {
     "base_uri": "https://localhost:8080/",
     "height": 328
    },
    "colab_type": "code",
    "id": "TrIDE-SBJWWn",
    "outputId": "46ef59b8-81a8-4be3-9590-46a4a1adab74"
   },
   "outputs": [
    {
     "data": {
      "text/html": [
       "<div>\n",
       "<style scoped>\n",
       "    .dataframe tbody tr th:only-of-type {\n",
       "        vertical-align: middle;\n",
       "    }\n",
       "\n",
       "    .dataframe tbody tr th {\n",
       "        vertical-align: top;\n",
       "    }\n",
       "\n",
       "    .dataframe thead th {\n",
       "        text-align: right;\n",
       "    }\n",
       "</style>\n",
       "<table border=\"1\" class=\"dataframe\">\n",
       "  <thead>\n",
       "    <tr style=\"text-align: right;\">\n",
       "      <th></th>\n",
       "      <th>1</th>\n",
       "      <th>2</th>\n",
       "      <th>0</th>\n",
       "      <th>-1</th>\n",
       "    </tr>\n",
       "  </thead>\n",
       "  <tbody>\n",
       "    <tr>\n",
       "      <th>Logistic_regression</th>\n",
       "      <td>3200.0</td>\n",
       "      <td>1171.0</td>\n",
       "      <td>271.0</td>\n",
       "      <td>104.0</td>\n",
       "    </tr>\n",
       "    <tr>\n",
       "      <th>SVC</th>\n",
       "      <td>3242.0</td>\n",
       "      <td>1176.0</td>\n",
       "      <td>221.0</td>\n",
       "      <td>107.0</td>\n",
       "    </tr>\n",
       "    <tr>\n",
       "      <th>LinearSVC</th>\n",
       "      <td>2825.0</td>\n",
       "      <td>1226.0</td>\n",
       "      <td>439.0</td>\n",
       "      <td>256.0</td>\n",
       "    </tr>\n",
       "    <tr>\n",
       "      <th>MultinomialNB</th>\n",
       "      <td>4359.0</td>\n",
       "      <td>350.0</td>\n",
       "      <td>37.0</td>\n",
       "      <td>0.0</td>\n",
       "    </tr>\n",
       "    <tr>\n",
       "      <th>Random_Forest</th>\n",
       "      <td>3322.0</td>\n",
       "      <td>1055.0</td>\n",
       "      <td>305.0</td>\n",
       "      <td>64.0</td>\n",
       "    </tr>\n",
       "    <tr>\n",
       "      <th>KNeighbors</th>\n",
       "      <td>2882.0</td>\n",
       "      <td>1046.0</td>\n",
       "      <td>534.0</td>\n",
       "      <td>284.0</td>\n",
       "    </tr>\n",
       "    <tr>\n",
       "      <th>AdaBoost</th>\n",
       "      <td>2908.0</td>\n",
       "      <td>1312.0</td>\n",
       "      <td>381.0</td>\n",
       "      <td>145.0</td>\n",
       "    </tr>\n",
       "    <tr>\n",
       "      <th>GradientBoost</th>\n",
       "      <td>3185.0</td>\n",
       "      <td>1154.0</td>\n",
       "      <td>296.0</td>\n",
       "      <td>111.0</td>\n",
       "    </tr>\n",
       "    <tr>\n",
       "      <th>Sequential</th>\n",
       "      <td>3222.0</td>\n",
       "      <td>657.0</td>\n",
       "      <td>713.0</td>\n",
       "      <td>154.0</td>\n",
       "    </tr>\n",
       "  </tbody>\n",
       "</table>\n",
       "</div>"
      ],
      "text/plain": [
       "                          1       2      0     -1\n",
       "Logistic_regression  3200.0  1171.0  271.0  104.0\n",
       "SVC                  3242.0  1176.0  221.0  107.0\n",
       "LinearSVC            2825.0  1226.0  439.0  256.0\n",
       "MultinomialNB        4359.0   350.0   37.0    0.0\n",
       "Random_Forest        3322.0  1055.0  305.0   64.0\n",
       "KNeighbors           2882.0  1046.0  534.0  284.0\n",
       "AdaBoost             2908.0  1312.0  381.0  145.0\n",
       "GradientBoost        3185.0  1154.0  296.0  111.0\n",
       "Sequential           3222.0   657.0  713.0  154.0"
      ]
     },
     "execution_count": 28,
     "metadata": {
      "tags": []
     },
     "output_type": "execute_result"
    }
   ],
   "source": [
    "predictions = distribution_of_sentiment(trained_models,X_test)\n",
    "predictions.T"
   ]
  },
  {
   "cell_type": "markdown",
   "metadata": {
    "colab_type": "text",
    "id": "9nyywqRsJWWu"
   },
   "source": [
    "From the plots below, we can see that the distribution of the classifications follows that of the original dataframe. The multinomialNB model has however done a bad job at classifying the sentiments. The model proves to classify most of the tweets as either 1 (Pro climate change belief) or as 2 (News). As per the models we have trained, this explains or rather is consistent with how the Multinomial model's accuracy and f1-weighted average score is performing the worst amongst our models.\n",
    "\n",
    "In this activity, were interested in finding out if there might be any anomalies between the distribution of the sentiment classifications in the original data and the classifications from the predictions in the models. As it can be seen, the distributions are what we would have expected."
   ]
  },
  {
   "cell_type": "code",
   "execution_count": null,
   "metadata": {
    "ExecuteTime": {
     "end_time": "2020-06-27T15:20:32.199050Z",
     "start_time": "2020-06-27T15:20:31.866582Z"
    },
    "colab": {},
    "colab_type": "code",
    "id": "JpM0rJb9JWWw"
   },
   "outputs": [],
   "source": [
    "def sentiment_figures(predictions):\n",
    "    '''Return a figure that visualises the classifications per model.'''\n",
    "    \n",
    "    fig, ax = plt.subplots(3,3,figsize=(11,6))\n",
    "    \n",
    "    count=0\n",
    "    \n",
    "    for row in range(3):\n",
    "        for column in range(3):\n",
    "            mask = predictions.columns[count]\n",
    "            ax[row,column].bar(x=['1','2','0','-1'],height=predictions[mask])\n",
    "            ax[row,column].set_title(mask)\n",
    "            count +=1\n",
    "\n",
    "    plt.tight_layout()\n",
    "    \n",
    "    return fig"
   ]
  },
  {
   "cell_type": "code",
   "execution_count": null,
   "metadata": {
    "ExecuteTime": {
     "end_time": "2020-06-27T15:20:35.441128Z",
     "start_time": "2020-06-27T15:20:32.203027Z"
    },
    "colab": {
     "base_uri": "https://localhost:8080/",
     "height": 441
    },
    "colab_type": "code",
    "id": "3yrnyl-JJWW6",
    "outputId": "a5a20016-4425-4081-e2ea-60103a122f49",
    "scrolled": false
   },
   "outputs": [
    {
     "data": {
      "image/png": "[encoded data removed]",
      "text/plain": [
       "<Figure size 792x432 with 9 Axes>"
      ]
     },
     "metadata": {
      "tags": []
     },
     "output_type": "display_data"
    }
   ],
   "source": [
    "_ = sentiment_figures(predictions)"
   ]
  },
  {
   "cell_type": "markdown",
   "metadata": {
    "colab_type": "text",
    "id": "4QZmSYhwJWXL"
   },
   "source": [
    "##### Conclusion\n",
    "In this section we trained base mosels with the raw data and minimal data preprocessing and little to no hyperparameter tuning. This was done with the intention to get an idea of which models can be ideal to train going forward, given their performance (weighted average f1 score). From our experiment, we have seen that the LinearSVC as well as the Sequential model have the highest weighted average f1 scores.\n",
    "\n",
    "In the following sections, we are going to explore multiple methods to try and improve the performance of our models."
   ]
  },
  {
   "cell_type": "markdown",
   "metadata": {
    "colab_type": "text",
    "id": "r0bVwJjBJWXP"
   },
   "source": [
    "# Data Transformation\n",
    "In this section, we are going to explore different ways we can go about transforming the data in an attempt to try and improve the performance of our models. This includes the removal of links, special characters, entities etc."
   ]
  },
  {
   "cell_type": "markdown",
   "metadata": {
    "colab_type": "text",
    "id": "yPvv_GtqJWXT"
   },
   "source": [
    "## Data resampling\n",
    "A we have already identified in section 2 of this notebook (Data Exploration), the data is not balanced ; that is, there are more entries for one sentiment relative to the other. For that reason, we have explored the upsampling as well as the downsampling method to try and balance out the data. However, upon doing that experiment, we realised that the data doesn't really have to be balanced as people are being gradually becoming aware of the impact of climate change and global warming.\n",
    "\n",
    "For that reason, it should be expected that more and more people would be in support of the climate change belief. Given that realisation, we opted to rather upsample all the entries per sentiment. This was done to preserve the reflection of reality of the data as well as to try and improve the performance of the models."
   ]
  },
  {
   "cell_type": "code",
   "execution_count": null,
   "metadata": {
    "ExecuteTime": {
     "end_time": "2020-06-27T15:20:35.553946Z",
     "start_time": "2020-06-27T15:20:35.487984Z"
    },
    "colab": {},
    "colab_type": "code",
    "id": "0XBK7nl7JWXX"
   },
   "outputs": [],
   "source": [
    "# import the resampling package\n",
    "from sklearn.utils import resample"
   ]
  },
  {
   "cell_type": "markdown",
   "metadata": {
    "colab_type": "text",
    "id": "txAgSEfdJWXf"
   },
   "source": [
    "The code cell below splits the data into all the sentiments (0,1,2,-1). After splitting the data in that manner, we use the resampling package to upsample the entries per category. Here we increased category 1 (Pro) by 20% of the length of category 1 entries. Category 2 (news) was increased to the length of the original category 1 entries. Category 0 (Neutral) was increaed to 80% of the length of the new category 2. The last category was increased by a factor of 4."
   ]
  },
  {
   "cell_type": "code",
   "execution_count": null,
   "metadata": {
    "ExecuteTime": {
     "end_time": "2020-06-27T15:20:37.159113Z",
     "start_time": "2020-06-27T15:20:35.553946Z"
    },
    "colab": {},
    "colab_type": "code",
    "id": "J2C4UbEJJWXg"
   },
   "outputs": [],
   "source": [
    "def UpSampleData(train_data):\n",
    "    '''Return dataframes with upsampled sentiment categories'''\n",
    "    \n",
    "    # split the data by sentiment\n",
    "    sent_1 = train_data[train_data.sentiment==1]\n",
    "    sent_2 = train_data[train_data.sentiment==2]\n",
    "    sent_0 = train_data[train_data.sentiment==0]\n",
    "    sent_3 = train_data[train_data.sentiment==-1]\n",
    "\n",
    "    # resample the data\n",
    "    sent_2 = resample(sent_2,replace=True,n_samples=len(sent_1),random_state=4)\n",
    "    sent_1 = resample(sent_1,replace=True,n_samples=int(len(sent_1)*1.6),random_state=4)\n",
    "    sent_0 = resample(sent_0,replace=True,n_samples=int(len(sent_2)*0.8),random_state=4)\n",
    "    sent_3 = resample(sent_3,replace=True,n_samples=len(sent_3)*4,random_state=4)\n",
    "    \n",
    "    return sent_1,sent_2,sent_0,sent_3\n",
    "\n",
    "sent_1,sent_2,sent_0,sent_3 = UpSampleData(train_data)"
   ]
  },
  {
   "cell_type": "code",
   "execution_count": null,
   "metadata": {
    "ExecuteTime": {
     "end_time": "2020-06-27T15:20:38.019389Z",
     "start_time": "2020-06-27T15:20:37.166581Z"
    },
    "colab": {
     "base_uri": "https://localhost:8080/",
     "height": 388
    },
    "colab_type": "code",
    "id": "kROufnZKJWXr",
    "outputId": "a328ca8a-27ed-4c65-e53e-8136c56ce87f"
   },
   "outputs": [
    {
     "name": "stdout",
     "output_type": "stream",
     "text": [
      "\n",
      "\t\t\t\tNumber of entries per category\n"
     ]
    },
    {
     "data": {
      "image/png": "[encoded data removed]",
      "text/plain": [
       "<Figure size 936x360 with 2 Axes>"
      ]
     },
     "metadata": {
      "tags": []
     },
     "output_type": "display_data"
    },
    {
     "name": "stdout",
     "output_type": "stream",
     "text": [
      "\t\t\t\t\tSentiment Categories\n",
      "\n"
     ]
    }
   ],
   "source": [
    "# display the distributions\n",
    "fig, ax = plt.subplots(1,2,figsize=(13,5))\n",
    "print('\\n\\t\\t\\t\\tNumber of entries per category')\n",
    "ax[0].bar(x=['1','2','0','-1'],height=categories['no_of_entries'])\n",
    "ax[1].bar(x=['1','2','0','-1'],height=[len(sent_1),len(sent_2),len(sent_0),len(sent_3)])\n",
    "ax[0].set_ylabel('Number of entries')\n",
    "plt.show()\n",
    "print('\\t\\t\\t\\t\\tSentiment Categories\\n')"
   ]
  },
  {
   "cell_type": "code",
   "execution_count": null,
   "metadata": {
    "ExecuteTime": {
     "end_time": "2020-06-27T15:20:38.609759Z",
     "start_time": "2020-06-27T15:20:38.019389Z"
    },
    "colab": {
     "base_uri": "https://localhost:8080/",
     "height": 286
    },
    "colab_type": "code",
    "id": "xBvFsJBjJWX2",
    "outputId": "02af746d-f50c-4762-f3ff-2e86576296c5"
   },
   "outputs": [
    {
     "data": {
      "text/html": [
       "<div>\n",
       "<style scoped>\n",
       "    .dataframe tbody tr th:only-of-type {\n",
       "        vertical-align: middle;\n",
       "    }\n",
       "\n",
       "    .dataframe tbody tr th {\n",
       "        vertical-align: top;\n",
       "    }\n",
       "\n",
       "    .dataframe thead th {\n",
       "        text-align: right;\n",
       "    }\n",
       "</style>\n",
       "<table border=\"1\" class=\"dataframe\">\n",
       "  <thead>\n",
       "    <tr style=\"text-align: right;\">\n",
       "      <th></th>\n",
       "      <th>sentiment</th>\n",
       "      <th>message</th>\n",
       "    </tr>\n",
       "    <tr>\n",
       "      <th>tweetid</th>\n",
       "      <th></th>\n",
       "      <th></th>\n",
       "    </tr>\n",
       "  </thead>\n",
       "  <tbody>\n",
       "    <tr>\n",
       "      <th>584136</th>\n",
       "      <td>1</td>\n",
       "      <td>RT @SenSanders: We have a president-elect who doesn't believe in climate change. Millions of people are going to have to say: Mr. TÃ¢â‚¬Â¦</td>\n",
       "    </tr>\n",
       "    <tr>\n",
       "      <th>77065</th>\n",
       "      <td>1</td>\n",
       "      <td>Trump won't deter us on climate change @CNNI https://t.co/4HSHSgpilp</td>\n",
       "    </tr>\n",
       "    <tr>\n",
       "      <th>911647</th>\n",
       "      <td>1</td>\n",
       "      <td>RT @Travon: Between DeVos, poison water, more guns and ignoring climate change, Republicans remain the biggest threat to your child's futur…</td>\n",
       "    </tr>\n",
       "    <tr>\n",
       "      <th>686607</th>\n",
       "      <td>1</td>\n",
       "      <td>@Moj_kobe The world in 'Fallout New Vegas' is a gritty prediction of our climate change future https://t.co/MIqo9oDdGu</td>\n",
       "    </tr>\n",
       "    <tr>\n",
       "      <th>717554</th>\n",
       "      <td>1</td>\n",
       "      <td>RT @irinnews: “Very little has been done to tackle the bigger threat: regular droughts and hurricanes caused by climate change.” \\nhttps://t…</td>\n",
       "    </tr>\n",
       "  </tbody>\n",
       "</table>\n",
       "</div>"
      ],
      "text/plain": [
       "         sentiment                                                                                                                                        message\n",
       "tweetid                                                                                                                                                          \n",
       "584136           1     RT @SenSanders: We have a president-elect who doesn't believe in climate change. Millions of people are going to have to say: Mr. TÃ¢â‚¬Â¦\n",
       "77065            1                                                                           Trump won't deter us on climate change @CNNI https://t.co/4HSHSgpilp\n",
       "911647           1   RT @Travon: Between DeVos, poison water, more guns and ignoring climate change, Republicans remain the biggest threat to your child's futur…\n",
       "686607           1                         @Moj_kobe The world in 'Fallout New Vegas' is a gritty prediction of our climate change future https://t.co/MIqo9oDdGu\n",
       "717554           1  RT @irinnews: “Very little has been done to tackle the bigger threat: regular droughts and hurricanes caused by climate change.” \\nhttps://t…"
      ]
     },
     "execution_count": 34,
     "metadata": {
      "tags": []
     },
     "output_type": "execute_result"
    }
   ],
   "source": [
    "new_train_data = pd.concat([sent_1,sent_2,sent_3,sent_0])\n",
    "new_train_data.head()"
   ]
  },
  {
   "cell_type": "markdown",
   "metadata": {
    "colab_type": "text",
    "id": "kUzooX6YJWX-"
   },
   "source": [
    "### Impact of Upsampling\n",
    "Here we look at how upsampling might have affected the performance of our base models by calling the models_to_train() and the sequence_model() functions we defined in the previous section.\n",
    "\n",
    "Due to the amount of time it takes the models below to train, we have comented out the code post the training and saving of the output from the experiment."
   ]
  },
  {
   "cell_type": "code",
   "execution_count": null,
   "metadata": {
    "ExecuteTime": {
     "end_time": "2020-06-27T16:44:44.542426Z",
     "start_time": "2020-06-27T15:20:38.613757Z"
    },
    "colab": {},
    "colab_type": "code",
    "id": "h751QEZvJWYA"
   },
   "outputs": [],
   "source": [
    "# # Do NOT Execute!! Load Pickle files!\n",
    "# # split into dependent and independent arrays\n",
    "# X = new_train_data['message'].values\n",
    "# y = new_train_data['sentiment'].values\n",
    "\n",
    "# # split into training and testing data\n",
    "# X_train, X_test, y_train, y_test = train_test_split(X, y, test_size=0.3, random_state=4)\n",
    "\n",
    "# sampled_performance, sampled_trained_models = models_to_train(X_train,X_test,y_train,y_test,train_models)\n",
    "# sampled_performance, sampled_model = sequence_model(new_train_data,sampled_performance)\n",
    "# sampled_trained_models['Sequential'] = sampled_model"
   ]
  },
  {
   "cell_type": "code",
   "execution_count": null,
   "metadata": {
    "colab": {},
    "colab_type": "code",
    "id": "XrmcY2NUZ7JI"
   },
   "outputs": [],
   "source": [
    "# # save the models as pickle files.\n",
    "# for name, model in sampled_trained_models.items():\n",
    "#   filename = name+'.pbz2'\n",
    "#   print(filename)\n",
    "#   with bz2.BZ2File(filename,'wb') as file:\n",
    "#     cPickle.dump(model,file)\n",
    "\n",
    "# sampled_performance.to_csv('sampled_performance.csv')"
   ]
  },
  {
   "cell_type": "code",
   "execution_count": null,
   "metadata": {
    "ExecuteTime": {
     "end_time": "2020-06-27T16:44:51.448376Z",
     "start_time": "2020-06-27T16:44:45.430566Z"
    },
    "colab": {
     "base_uri": "https://localhost:8080/",
     "height": 328
    },
    "colab_type": "code",
    "id": "OLAp4ZuyJWYM",
    "outputId": "db7da049-d258-4925-80e2-29be088db6bf"
   },
   "outputs": [
    {
     "data": {
      "text/html": [
       "<div>\n",
       "<style scoped>\n",
       "    .dataframe tbody tr th:only-of-type {\n",
       "        vertical-align: middle;\n",
       "    }\n",
       "\n",
       "    .dataframe tbody tr th {\n",
       "        vertical-align: top;\n",
       "    }\n",
       "\n",
       "    .dataframe thead th {\n",
       "        text-align: right;\n",
       "    }\n",
       "</style>\n",
       "<table border=\"1\" class=\"dataframe\">\n",
       "  <thead>\n",
       "    <tr style=\"text-align: right;\">\n",
       "      <th></th>\n",
       "      <th>weighted_average</th>\n",
       "      <th>accuracy_score</th>\n",
       "    </tr>\n",
       "  </thead>\n",
       "  <tbody>\n",
       "    <tr>\n",
       "      <th>SVC</th>\n",
       "      <td>0.95</td>\n",
       "      <td>0.950200</td>\n",
       "    </tr>\n",
       "    <tr>\n",
       "      <th>LinearSVC</th>\n",
       "      <td>0.95</td>\n",
       "      <td>0.947300</td>\n",
       "    </tr>\n",
       "    <tr>\n",
       "      <th>Random_Forest</th>\n",
       "      <td>0.95</td>\n",
       "      <td>0.946100</td>\n",
       "    </tr>\n",
       "    <tr>\n",
       "      <th>Sequential</th>\n",
       "      <td>0.94</td>\n",
       "      <td>0.936135</td>\n",
       "    </tr>\n",
       "    <tr>\n",
       "      <th>Logistic_regression</th>\n",
       "      <td>0.85</td>\n",
       "      <td>0.855500</td>\n",
       "    </tr>\n",
       "    <tr>\n",
       "      <th>MultinomialNB</th>\n",
       "      <td>0.78</td>\n",
       "      <td>0.786500</td>\n",
       "    </tr>\n",
       "    <tr>\n",
       "      <th>KNeighbors</th>\n",
       "      <td>0.77</td>\n",
       "      <td>0.773500</td>\n",
       "    </tr>\n",
       "    <tr>\n",
       "      <th>GradientBoost</th>\n",
       "      <td>0.67</td>\n",
       "      <td>0.676600</td>\n",
       "    </tr>\n",
       "    <tr>\n",
       "      <th>AdaBoost</th>\n",
       "      <td>0.57</td>\n",
       "      <td>0.587600</td>\n",
       "    </tr>\n",
       "  </tbody>\n",
       "</table>\n",
       "</div>"
      ],
      "text/plain": [
       "                     weighted_average  accuracy_score\n",
       "SVC                              0.95        0.950200\n",
       "LinearSVC                        0.95        0.947300\n",
       "Random_Forest                    0.95        0.946100\n",
       "Sequential                       0.94        0.936135\n",
       "Logistic_regression              0.85        0.855500\n",
       "MultinomialNB                    0.78        0.786500\n",
       "KNeighbors                       0.77        0.773500\n",
       "GradientBoost                    0.67        0.676600\n",
       "AdaBoost                         0.57        0.587600"
      ]
     },
     "execution_count": 35,
     "metadata": {
      "tags": []
     },
     "output_type": "execute_result"
    }
   ],
   "source": [
    "sampled_performance =pd.read_csv('https://raw.githubusercontent.com/team-rm4-JHB-classificationpredict/team_rm4_JHB_classification/master/predict_deliverables/data/sampled_performance.csv',index_col=0)\n",
    "sampled_performance"
   ]
  },
  {
   "cell_type": "code",
   "execution_count": null,
   "metadata": {
    "colab": {
     "base_uri": "https://localhost:8080/",
     "height": 469
    },
    "colab_type": "code",
    "id": "akFC7A9bkIrw",
    "outputId": "df36bda4-b291-488b-994d-f8172da94779"
   },
   "outputs": [
    {
     "data": {
      "image/png": "[encoded data removed]",
      "text/plain": [
       "<Figure size 864x432 with 1 Axes>"
      ]
     },
     "metadata": {
      "tags": []
     },
     "output_type": "display_data"
    }
   ],
   "source": [
    "_ = model_scores(sampled_performance)"
   ]
  },
  {
   "cell_type": "markdown",
   "metadata": {
    "colab_type": "text",
    "id": "cALiuH0_JWYd"
   },
   "source": [
    "The experiment to try and upscale the data has paid off as all the base models have improved their performance, be it the accuracy score or the weighted average f1 score. The Support Vector Classifier and the Random forest classifier  have outperformned the other models post the upsampling. This can be attributed to the presence of more information for the models to train on. This might be an indication of overfitting more than it might be an indication of the improvement in performance. Before we conclude this section, we explore other ways of transforming the data and see how that will impact the performance thereof.\n",
    "\n",
    "Please note that the transformation below will be done on the original train_data dataframe. This is for computational efficiency. Upon completion of the transformation, the data will be upsampled to reflect the experiment above."
   ]
  },
  {
   "cell_type": "markdown",
   "metadata": {
    "colab_type": "text",
    "id": "juGOP3EhJWYl"
   },
   "source": [
    "## Clean the data\n",
    "### Remove Entities\n",
    "The entities in the tweets don't really help us understand a customer's sentiment. For that reason, we have opted to exclude the entities from the train_data (message column). This will be replaced with an empty string."
   ]
  },
  {
   "cell_type": "code",
   "execution_count": null,
   "metadata": {
    "ExecuteTime": {
     "end_time": "2020-06-27T16:44:54.212313Z",
     "start_time": "2020-06-27T16:44:51.591086Z"
    },
    "colab": {},
    "colab_type": "code",
    "id": "lkfmzwiFJWYn"
   },
   "outputs": [],
   "source": [
    "def remove_entity(tweet):\n",
    "    '''Return a tweet without any entities.\n",
    "    '''\n",
    "    doc = nlp(tweet)\n",
    "    \n",
    "    # list to store entities\n",
    "    entity = [x.text for x in doc.ents]\n",
    "    \n",
    "    # list of words without any entities\n",
    "    tweet = [word.text for word in doc if word.text not in entity]\n",
    "    \n",
    "    # return a string\n",
    "    return ' '.join(tweet)"
   ]
  },
  {
   "cell_type": "code",
   "execution_count": null,
   "metadata": {
    "ExecuteTime": {
     "end_time": "2020-06-27T17:06:20.493833Z",
     "start_time": "2020-06-27T16:44:54.599320Z"
    },
    "colab": {},
    "colab_type": "code",
    "id": "sNtk6b14JWYu"
   },
   "outputs": [],
   "source": [
    "train_data['message'] = train_data['message'].apply(remove_entity)"
   ]
  },
  {
   "cell_type": "markdown",
   "metadata": {
    "colab_type": "text",
    "id": "xVo69rGbJWY6"
   },
   "source": [
    "### Demojize the data\n",
    "Convert the emojis in the tweets to their meaning or descriptions. This will help us derive meaning out of the presence of emojis in tweets. The first code cell below shows the raw tweet. The following code cell shows how we demojize a tweet to return its text description."
   ]
  },
  {
   "cell_type": "code",
   "execution_count": null,
   "metadata": {
    "ExecuteTime": {
     "end_time": "2020-06-27T17:06:21.098525Z",
     "start_time": "2020-06-27T17:06:20.547841Z"
    },
    "colab": {
     "base_uri": "https://localhost:8080/",
     "height": 35
    },
    "colab_type": "code",
    "id": "9w9fPuJUJWZA",
    "outputId": "1325a3d0-6c9c-4890-c42b-7c6f5f4db4fa"
   },
   "outputs": [
    {
     "data": {
      "application/vnd.google.colaboratory.intrinsic": {
       "type": "string"
      },
      "text/plain": [
       "'lmao 😂 snowflakes ❄ ️ complaining about snowflakes ❄ ️ in = global warming 🤦 \\u200d ♂ ️'"
      ]
     },
     "execution_count": 39,
     "metadata": {
      "tags": []
     },
     "output_type": "execute_result"
    }
   ],
   "source": [
    "train_data['message'].loc[911385]"
   ]
  },
  {
   "cell_type": "code",
   "execution_count": null,
   "metadata": {
    "ExecuteTime": {
     "end_time": "2020-06-27T17:06:21.840098Z",
     "start_time": "2020-06-27T17:06:21.128084Z"
    },
    "colab": {
     "base_uri": "https://localhost:8080/",
     "height": 52
    },
    "colab_type": "code",
    "id": "ekF8ypZGJWZQ",
    "outputId": "afd24a00-95d7-408b-827a-f93ba8f0c45f"
   },
   "outputs": [
    {
     "data": {
      "application/vnd.google.colaboratory.intrinsic": {
       "type": "string"
      },
      "text/plain": [
       "'lmao :face_with_tears_of_joy: snowflakes :snowflake:  complaining about snowflakes :snowflake:  in = global warming :person_facepalming: \\u200d :male_sign: '"
      ]
     },
     "execution_count": 40,
     "metadata": {
      "tags": []
     },
     "output_type": "execute_result"
    }
   ],
   "source": [
    "emoji.demojize(train_data['message'].loc[911385])#.replace('_',' ').replace(':','')"
   ]
  },
  {
   "cell_type": "markdown",
   "metadata": {
    "colab_type": "text",
    "id": "X8icJ4_aJWZb"
   },
   "source": [
    "###### task: create a function that will demojize the tweets\n",
    "The function below takes a tweet that has emojis, demojize the tweets and then cleans the tweet. The cleaning of the tweet is only limited to removing the collons and the under scores created by the descriptions of the emojis."
   ]
  },
  {
   "cell_type": "code",
   "execution_count": null,
   "metadata": {
    "ExecuteTime": {
     "end_time": "2020-06-27T17:06:22.023440Z",
     "start_time": "2020-06-27T17:06:21.856089Z"
    },
    "colab": {},
    "colab_type": "code",
    "id": "cRehkHGaJWZc"
   },
   "outputs": [],
   "source": [
    "def demojize_tweet(df,col):\n",
    "    '''Return a dataframe with no emojis.\n",
    "    '''\n",
    "    df[col] = df[col].apply(emoji.demojize)\n",
    "    df[col] = df[col].apply(lambda x: x.replace(':','').replace('_',' '))\n",
    "    \n",
    "    return df"
   ]
  },
  {
   "cell_type": "code",
   "execution_count": null,
   "metadata": {
    "ExecuteTime": {
     "end_time": "2020-06-27T17:06:35.231503Z",
     "start_time": "2020-06-27T17:06:22.123516Z"
    },
    "colab": {},
    "colab_type": "code",
    "id": "aWhgeSarJWZp"
   },
   "outputs": [],
   "source": [
    "# apply the function\n",
    "train_data = demojize_tweet(train_data,'message')"
   ]
  },
  {
   "cell_type": "code",
   "execution_count": null,
   "metadata": {
    "ExecuteTime": {
     "end_time": "2020-06-27T17:06:35.384630Z",
     "start_time": "2020-06-27T17:06:35.375636Z"
    },
    "colab": {
     "base_uri": "https://localhost:8080/",
     "height": 52
    },
    "colab_type": "code",
    "id": "SsFguaKnJWZy",
    "outputId": "d611cf7a-c8ca-4664-885e-1bd4be8d1bf4"
   },
   "outputs": [
    {
     "data": {
      "application/vnd.google.colaboratory.intrinsic": {
       "type": "string"
      },
      "text/plain": [
       "'lmao face with tears of joy snowflakes snowflake  complaining about snowflakes snowflake  in = global warming person facepalming \\u200d male sign '"
      ]
     },
     "execution_count": 43,
     "metadata": {
      "tags": []
     },
     "output_type": "execute_result"
    }
   ],
   "source": [
    "train_data['message'].loc[911385]"
   ]
  },
  {
   "cell_type": "markdown",
   "metadata": {
    "colab_type": "text",
    "id": "Fms6H_XJJWZ_"
   },
   "source": [
    "The tweet in the code cell above reflects a transformed tweet without anu emojis, yet maintaining the same information from what an emoji might convey."
   ]
  },
  {
   "cell_type": "markdown",
   "metadata": {
    "colab_type": "text",
    "id": "HxJ0qRt5JWaA"
   },
   "source": [
    "### Remove links\n",
    "Here we seek to remove links from tweets as they don't offer us much information in terms of predicting a customer's belief on the topic of climate change. In this section we will also remove the **@** references and the **#**'s from tweets."
   ]
  },
  {
   "cell_type": "code",
   "execution_count": null,
   "metadata": {
    "ExecuteTime": {
     "end_time": "2020-06-27T17:06:35.933009Z",
     "start_time": "2020-06-27T17:06:35.546885Z"
    },
    "colab": {},
    "colab_type": "code",
    "id": "mPiOVyypJWaC"
   },
   "outputs": [],
   "source": [
    "def remove_links(df,col):\n",
    "    '''Return a tweet without any mentions (@), #'s nor links'''\n",
    "    \n",
    "    # Remove urls\n",
    "    pattern_url = r'http[s]?://(?:[A-Za-z]|[0-9]|[$-_@.&+]|[!*\\(\\),]|(?:%[0-9A-Fa-f][0-9A-Fa-f]))+'\n",
    "    pattern_url_1 = r'http[s]?//(?:[A-Za-z]|[0-9]|[$-_@.&+]|[!*\\(\\),]|(?:%[0-9A-Fa-f][0-9A-Fa-f]))+'\n",
    "    \n",
    "    mentions_H = r'\\@\\w+|\\#'\n",
    "    \n",
    "    df[col] = df[col].replace(to_replace = pattern_url, value = 'url', regex = True)\n",
    "    df[col] = df[col].replace(to_replace = pattern_url_1, value = 'url', regex = True)\n",
    "    df[col] = df[col].replace(to_replace = mentions_H, value = '', regex = True)\n",
    "    \n",
    "    return df"
   ]
  },
  {
   "cell_type": "code",
   "execution_count": null,
   "metadata": {
    "ExecuteTime": {
     "end_time": "2020-06-27T17:06:36.868518Z",
     "start_time": "2020-06-27T17:06:35.936953Z"
    },
    "colab": {},
    "colab_type": "code",
    "id": "XDOi429OJWaJ"
   },
   "outputs": [],
   "source": [
    "# store the cleaned tweets\n",
    "train_data = remove_links(train_data,'message')"
   ]
  },
  {
   "cell_type": "markdown",
   "metadata": {
    "colab_type": "text",
    "id": "Uyt6oi6sJWaR"
   },
   "source": [
    "###### task: display the head of the data"
   ]
  },
  {
   "cell_type": "code",
   "execution_count": null,
   "metadata": {
    "ExecuteTime": {
     "end_time": "2020-06-27T17:06:37.274045Z",
     "start_time": "2020-06-27T17:06:36.887743Z"
    },
    "colab": {
     "base_uri": "https://localhost:8080/",
     "height": 235
    },
    "colab_type": "code",
    "id": "xJQJQ6OyJWaS",
    "outputId": "606ec095-e022-4d63-8c0e-eb994fba2bfa"
   },
   "outputs": [
    {
     "data": {
      "text/html": [
       "<div>\n",
       "<style scoped>\n",
       "    .dataframe tbody tr th:only-of-type {\n",
       "        vertical-align: middle;\n",
       "    }\n",
       "\n",
       "    .dataframe tbody tr th {\n",
       "        vertical-align: top;\n",
       "    }\n",
       "\n",
       "    .dataframe thead th {\n",
       "        text-align: right;\n",
       "    }\n",
       "</style>\n",
       "<table border=\"1\" class=\"dataframe\">\n",
       "  <thead>\n",
       "    <tr style=\"text-align: right;\">\n",
       "      <th></th>\n",
       "      <th>sentiment</th>\n",
       "      <th>message</th>\n",
       "    </tr>\n",
       "    <tr>\n",
       "      <th>tweetid</th>\n",
       "      <th></th>\n",
       "      <th></th>\n",
       "    </tr>\n",
       "  </thead>\n",
       "  <tbody>\n",
       "    <tr>\n",
       "      <th>625221</th>\n",
       "      <td>1</td>\n",
       "      <td>PolySciMajor chief does n't think carbon dioxide is main cause of global warming and .. wait , what ! ? url via</td>\n",
       "    </tr>\n",
       "    <tr>\n",
       "      <th>126103</th>\n",
       "      <td>1</td>\n",
       "      <td>It 's not like we lack evidence of anthropogenic global warming</td>\n",
       "    </tr>\n",
       "    <tr>\n",
       "      <th>698562</th>\n",
       "      <td>2</td>\n",
       "      <td>Researchers say we have three years to act on climate change before it ’s too late url url …</td>\n",
       "    </tr>\n",
       "    <tr>\n",
       "      <th>573736</th>\n",
       "      <td>1</td>\n",
       "      <td>TodayinMaker  WIRED  was a pivotal year in the war on climate change url</td>\n",
       "    </tr>\n",
       "    <tr>\n",
       "      <th>466954</th>\n",
       "      <td>1</td>\n",
       "      <td>It 's , and a racist , sexist , climate change denying bigot is leading in the polls .</td>\n",
       "    </tr>\n",
       "  </tbody>\n",
       "</table>\n",
       "</div>"
      ],
      "text/plain": [
       "         sentiment                                                                                                           message\n",
       "tweetid                                                                                                                             \n",
       "625221           1  PolySciMajor chief does n't think carbon dioxide is main cause of global warming and .. wait , what ! ? url via \n",
       "126103           1                                                   It 's not like we lack evidence of anthropogenic global warming\n",
       "698562           2                      Researchers say we have three years to act on climate change before it ’s too late url url …\n",
       "573736           1                                          TodayinMaker  WIRED  was a pivotal year in the war on climate change url\n",
       "466954           1                           It 's , and a racist , sexist , climate change denying bigot is leading in the polls . "
      ]
     },
     "execution_count": 46,
     "metadata": {
      "tags": []
     },
     "output_type": "execute_result"
    }
   ],
   "source": [
    "train_data.head()"
   ]
  },
  {
   "cell_type": "markdown",
   "metadata": {
    "colab_type": "text",
    "id": "Wt3yse-0JWaY"
   },
   "source": [
    "### Remove Punctuations\n",
    "Remove the punctuations from the tweets and return the cleaned tweet. The returned tweet will be in lowwer case. The numbers in tweets will also be removed as they provide us with no information with regards to predicting a customer's sentiment."
   ]
  },
  {
   "cell_type": "code",
   "execution_count": null,
   "metadata": {
    "ExecuteTime": {
     "end_time": "2020-06-27T17:06:37.699473Z",
     "start_time": "2020-06-27T17:06:37.285263Z"
    },
    "colab": {},
    "colab_type": "code",
    "id": "riFUYEzBJWaa"
   },
   "outputs": [],
   "source": [
    "def remove_punc(tweet):\n",
    "    'Return a string without any punctuation.'\n",
    "    \n",
    "    tokens = word_tokenize(tweet)\n",
    "    tokens = [w.lower() for w in tokens]\n",
    "    table = str.maketrans('', '', string.punctuation+'0123456789')\n",
    "    \n",
    "    return ' '.join([w.translate(table) for w in tokens])"
   ]
  },
  {
   "cell_type": "code",
   "execution_count": null,
   "metadata": {
    "ExecuteTime": {
     "end_time": "2020-06-27T17:06:47.754103Z",
     "start_time": "2020-06-27T17:06:37.867640Z"
    },
    "colab": {},
    "colab_type": "code",
    "id": "zh3J34AFJWag"
   },
   "outputs": [],
   "source": [
    "train_data['message'] = train_data['message'].apply(remove_punc)"
   ]
  },
  {
   "cell_type": "code",
   "execution_count": null,
   "metadata": {
    "ExecuteTime": {
     "end_time": "2020-06-27T17:06:47.874082Z",
     "start_time": "2020-06-27T17:06:47.811956Z"
    },
    "colab": {
     "base_uri": "https://localhost:8080/",
     "height": 235
    },
    "colab_type": "code",
    "id": "G5fFWmecJWao",
    "outputId": "79dbe9e7-2791-4326-b85d-bbd74daff945"
   },
   "outputs": [
    {
     "data": {
      "text/html": [
       "<div>\n",
       "<style scoped>\n",
       "    .dataframe tbody tr th:only-of-type {\n",
       "        vertical-align: middle;\n",
       "    }\n",
       "\n",
       "    .dataframe tbody tr th {\n",
       "        vertical-align: top;\n",
       "    }\n",
       "\n",
       "    .dataframe thead th {\n",
       "        text-align: right;\n",
       "    }\n",
       "</style>\n",
       "<table border=\"1\" class=\"dataframe\">\n",
       "  <thead>\n",
       "    <tr style=\"text-align: right;\">\n",
       "      <th></th>\n",
       "      <th>sentiment</th>\n",
       "      <th>message</th>\n",
       "    </tr>\n",
       "    <tr>\n",
       "      <th>tweetid</th>\n",
       "      <th></th>\n",
       "      <th></th>\n",
       "    </tr>\n",
       "  </thead>\n",
       "  <tbody>\n",
       "    <tr>\n",
       "      <th>625221</th>\n",
       "      <td>1</td>\n",
       "      <td>polyscimajor chief does nt think carbon dioxide is main cause of global warming and  wait  what   url via</td>\n",
       "    </tr>\n",
       "    <tr>\n",
       "      <th>126103</th>\n",
       "      <td>1</td>\n",
       "      <td>it s not like we lack evidence of anthropogenic global warming</td>\n",
       "    </tr>\n",
       "    <tr>\n",
       "      <th>698562</th>\n",
       "      <td>2</td>\n",
       "      <td>researchers say we have three years to act on climate change before it ’ s too late url url …</td>\n",
       "    </tr>\n",
       "    <tr>\n",
       "      <th>573736</th>\n",
       "      <td>1</td>\n",
       "      <td>todayinmaker wired was a pivotal year in the war on climate change url</td>\n",
       "    </tr>\n",
       "    <tr>\n",
       "      <th>466954</th>\n",
       "      <td>1</td>\n",
       "      <td>it s  and a racist  sexist  climate change denying bigot is leading in the polls</td>\n",
       "    </tr>\n",
       "  </tbody>\n",
       "</table>\n",
       "</div>"
      ],
      "text/plain": [
       "         sentiment                                                                                                    message\n",
       "tweetid                                                                                                                      \n",
       "625221           1  polyscimajor chief does nt think carbon dioxide is main cause of global warming and  wait  what   url via\n",
       "126103           1                                             it s not like we lack evidence of anthropogenic global warming\n",
       "698562           2              researchers say we have three years to act on climate change before it ’ s too late url url …\n",
       "573736           1                                     todayinmaker wired was a pivotal year in the war on climate change url\n",
       "466954           1                          it s  and a racist  sexist  climate change denying bigot is leading in the polls "
      ]
     },
     "execution_count": 49,
     "metadata": {
      "tags": []
     },
     "output_type": "execute_result"
    }
   ],
   "source": [
    "train_data.head()"
   ]
  },
  {
   "cell_type": "markdown",
   "metadata": {
    "ExecuteTime": {
     "end_time": "2020-06-25T11:22:53.294492Z",
     "start_time": "2020-06-25T11:22:53.290493Z"
    },
    "colab_type": "text",
    "id": "3vLA1NhIJWa0"
   },
   "source": [
    "### Remove stop words\n",
    "Here we remove the stop words that might be in the tweets provided."
   ]
  },
  {
   "cell_type": "code",
   "execution_count": null,
   "metadata": {
    "ExecuteTime": {
     "end_time": "2020-06-27T17:06:48.225804Z",
     "start_time": "2020-06-27T17:06:47.880591Z"
    },
    "colab": {},
    "colab_type": "code",
    "id": "UHq55GQsJWa1"
   },
   "outputs": [],
   "source": [
    "def remove_stop_words(tweet):\n",
    "    tokens = TreebankWordTokenizer().tokenize(tweet)\n",
    "    return ' '.join([t for t in tokens if t not in stopwords.words('english')])"
   ]
  },
  {
   "cell_type": "code",
   "execution_count": null,
   "metadata": {
    "ExecuteTime": {
     "end_time": "2020-06-27T17:09:01.150466Z",
     "start_time": "2020-06-27T17:06:48.323874Z"
    },
    "colab": {},
    "colab_type": "code",
    "id": "dMLr33r-JWbA"
   },
   "outputs": [],
   "source": [
    "train_data['message'] = train_data['message'].apply(remove_stop_words)"
   ]
  },
  {
   "cell_type": "markdown",
   "metadata": {
    "colab_type": "text",
    "id": "3IhK0QWTJWbQ"
   },
   "source": [
    "## Stemming and Lemmatization\n",
    "What we are going to try to do in this section is to explore how we can reduce the words in tweets to their root. For this we will explore the Stemming and Lemmatization methods. We start by first exploring the stemming method. Stemming refers to the process of reducing each word to its root or base. However, stemming has a shortfall in that the roots can sometimes not be english words. For that reason, we explore the Lemmatization method which returns english words.\n",
    "\n",
    "We will thus apply the lemmatization method to our dataset. The lemmatization method is relatively slower than the stemmer method. But for the sake of having roots or bases that are english words, we will apply lemmatization."
   ]
  },
  {
   "cell_type": "markdown",
   "metadata": {
    "colab_type": "text",
    "id": "RWvmUcgyJWbR"
   },
   "source": [
    "###### task: try the stemmer"
   ]
  },
  {
   "cell_type": "code",
   "execution_count": null,
   "metadata": {
    "ExecuteTime": {
     "end_time": "2020-06-27T17:09:01.352135Z",
     "start_time": "2020-06-27T17:09:01.189231Z"
    },
    "colab": {},
    "colab_type": "code",
    "id": "vjkl5c2KJWbT"
   },
   "outputs": [],
   "source": [
    "def stem_tweets(tweet):\n",
    "    tokens = TreebankWordTokenizer().tokenize(tweet)\n",
    "    return ' '.join([SnowballStemmer('english').stem(word) for word in  tokens])"
   ]
  },
  {
   "cell_type": "code",
   "execution_count": null,
   "metadata": {
    "ExecuteTime": {
     "end_time": "2020-06-27T17:09:11.689409Z",
     "start_time": "2020-06-27T17:09:01.620614Z"
    },
    "colab": {
     "base_uri": "https://localhost:8080/",
     "height": 235
    },
    "colab_type": "code",
    "id": "aSzBA9pgJWbi",
    "outputId": "5a58d199-2e8a-4b4c-8aee-424ccea741bd"
   },
   "outputs": [
    {
     "data": {
      "text/html": [
       "<div>\n",
       "<style scoped>\n",
       "    .dataframe tbody tr th:only-of-type {\n",
       "        vertical-align: middle;\n",
       "    }\n",
       "\n",
       "    .dataframe tbody tr th {\n",
       "        vertical-align: top;\n",
       "    }\n",
       "\n",
       "    .dataframe thead th {\n",
       "        text-align: right;\n",
       "    }\n",
       "</style>\n",
       "<table border=\"1\" class=\"dataframe\">\n",
       "  <thead>\n",
       "    <tr style=\"text-align: right;\">\n",
       "      <th></th>\n",
       "      <th>message</th>\n",
       "    </tr>\n",
       "    <tr>\n",
       "      <th>tweetid</th>\n",
       "      <th></th>\n",
       "    </tr>\n",
       "  </thead>\n",
       "  <tbody>\n",
       "    <tr>\n",
       "      <th>625221</th>\n",
       "      <td>polyscimajor chief nt think carbon dioxid main caus global warm wait url via</td>\n",
       "    </tr>\n",
       "    <tr>\n",
       "      <th>126103</th>\n",
       "      <td>like lack evid anthropogen global warm</td>\n",
       "    </tr>\n",
       "    <tr>\n",
       "      <th>698562</th>\n",
       "      <td>research say three year act climat chang ’ late url url …</td>\n",
       "    </tr>\n",
       "    <tr>\n",
       "      <th>573736</th>\n",
       "      <td>todayinmak wire pivot year war climat chang url</td>\n",
       "    </tr>\n",
       "    <tr>\n",
       "      <th>466954</th>\n",
       "      <td>racist sexist climat chang deni bigot lead poll</td>\n",
       "    </tr>\n",
       "  </tbody>\n",
       "</table>\n",
       "</div>"
      ],
      "text/plain": [
       "                                                                              message\n",
       "tweetid                                                                              \n",
       "625221   polyscimajor chief nt think carbon dioxid main caus global warm wait url via\n",
       "126103                                         like lack evid anthropogen global warm\n",
       "698562                      research say three year act climat chang ’ late url url …\n",
       "573736                                todayinmak wire pivot year war climat chang url\n",
       "466954                                racist sexist climat chang deni bigot lead poll"
      ]
     },
     "execution_count": 53,
     "metadata": {
      "tags": []
     },
     "output_type": "execute_result"
    }
   ],
   "source": [
    "pd.DataFrame(train_data['message'].apply(stem_tweets)).head()"
   ]
  },
  {
   "cell_type": "markdown",
   "metadata": {
    "ExecuteTime": {
     "end_time": "2020-06-25T11:12:46.904725Z",
     "start_time": "2020-06-25T11:12:46.619893Z"
    },
    "colab_type": "text",
    "id": "AX58x7viJWbo"
   },
   "source": [
    "###### task: apply the lemmatization method"
   ]
  },
  {
   "cell_type": "code",
   "execution_count": null,
   "metadata": {
    "ExecuteTime": {
     "end_time": "2020-06-27T17:09:12.004505Z",
     "start_time": "2020-06-27T17:09:11.727114Z"
    },
    "colab": {},
    "colab_type": "code",
    "id": "JYAoCpaLJWbq"
   },
   "outputs": [],
   "source": [
    "def lemmatize_tweets(tweet):\n",
    "    tokens = TreebankWordTokenizer().tokenize(tweet)\n",
    "    return ' '.join([WordNetLemmatizer().lemmatize(word) for word in tokens])"
   ]
  },
  {
   "cell_type": "code",
   "execution_count": null,
   "metadata": {
    "ExecuteTime": {
     "end_time": "2020-06-27T17:10:18.007406Z",
     "start_time": "2020-06-27T17:09:12.010492Z"
    },
    "colab": {},
    "colab_type": "code",
    "id": "R8gmC9oyJWbw"
   },
   "outputs": [],
   "source": [
    "train_data['message'] = train_data['message'].apply(lemmatize_tweets)"
   ]
  },
  {
   "cell_type": "code",
   "execution_count": null,
   "metadata": {
    "ExecuteTime": {
     "end_time": "2020-06-27T17:10:18.129902Z",
     "start_time": "2020-06-27T17:10:18.089922Z"
    },
    "colab": {
     "base_uri": "https://localhost:8080/",
     "height": 235
    },
    "colab_type": "code",
    "id": "u26-NZZQJWb2",
    "outputId": "0dde8b83-bde9-445a-dc64-3b72cd9940b0"
   },
   "outputs": [
    {
     "data": {
      "text/html": [
       "<div>\n",
       "<style scoped>\n",
       "    .dataframe tbody tr th:only-of-type {\n",
       "        vertical-align: middle;\n",
       "    }\n",
       "\n",
       "    .dataframe tbody tr th {\n",
       "        vertical-align: top;\n",
       "    }\n",
       "\n",
       "    .dataframe thead th {\n",
       "        text-align: right;\n",
       "    }\n",
       "</style>\n",
       "<table border=\"1\" class=\"dataframe\">\n",
       "  <thead>\n",
       "    <tr style=\"text-align: right;\">\n",
       "      <th></th>\n",
       "      <th>sentiment</th>\n",
       "      <th>message</th>\n",
       "    </tr>\n",
       "    <tr>\n",
       "      <th>tweetid</th>\n",
       "      <th></th>\n",
       "      <th></th>\n",
       "    </tr>\n",
       "  </thead>\n",
       "  <tbody>\n",
       "    <tr>\n",
       "      <th>625221</th>\n",
       "      <td>1</td>\n",
       "      <td>polyscimajor chief nt think carbon dioxide main cause global warming wait url via</td>\n",
       "    </tr>\n",
       "    <tr>\n",
       "      <th>126103</th>\n",
       "      <td>1</td>\n",
       "      <td>like lack evidence anthropogenic global warming</td>\n",
       "    </tr>\n",
       "    <tr>\n",
       "      <th>698562</th>\n",
       "      <td>2</td>\n",
       "      <td>researcher say three year act climate change ’ late url url …</td>\n",
       "    </tr>\n",
       "    <tr>\n",
       "      <th>573736</th>\n",
       "      <td>1</td>\n",
       "      <td>todayinmaker wired pivotal year war climate change url</td>\n",
       "    </tr>\n",
       "    <tr>\n",
       "      <th>466954</th>\n",
       "      <td>1</td>\n",
       "      <td>racist sexist climate change denying bigot leading poll</td>\n",
       "    </tr>\n",
       "  </tbody>\n",
       "</table>\n",
       "</div>"
      ],
      "text/plain": [
       "         sentiment                                                                            message\n",
       "tweetid                                                                                              \n",
       "625221           1  polyscimajor chief nt think carbon dioxide main cause global warming wait url via\n",
       "126103           1                                    like lack evidence anthropogenic global warming\n",
       "698562           2                      researcher say three year act climate change ’ late url url …\n",
       "573736           1                             todayinmaker wired pivotal year war climate change url\n",
       "466954           1                            racist sexist climate change denying bigot leading poll"
      ]
     },
     "execution_count": 56,
     "metadata": {
      "tags": []
     },
     "output_type": "execute_result"
    }
   ],
   "source": [
    "train_data.head()"
   ]
  },
  {
   "cell_type": "markdown",
   "metadata": {
    "colab_type": "text",
    "id": "RlflQEuRJWb9"
   },
   "source": [
    "###### upsample the transformed train data"
   ]
  },
  {
   "cell_type": "code",
   "execution_count": null,
   "metadata": {
    "ExecuteTime": {
     "end_time": "2020-06-27T17:10:20.203004Z",
     "start_time": "2020-06-27T17:10:18.257766Z"
    },
    "colab": {},
    "colab_type": "code",
    "id": "-8HDzXkRJWb-"
   },
   "outputs": [],
   "source": [
    "sent_1,sent_2,sent_0,sent_3 = UpSampleData(train_data)\n",
    "clean_train_data = pd.concat([sent_1,sent_2,sent_3,sent_0])"
   ]
  },
  {
   "cell_type": "markdown",
   "metadata": {
    "colab_type": "text",
    "id": "uC00T5raJWcD"
   },
   "source": [
    "## Performance Evaluation\n",
    "In this section we are going to evaluate the performance of the base models post the transformation of our data. We start off by splitting the data into training and test data. We will be using the functions that were defined earlier for the evaluation below:"
   ]
  },
  {
   "cell_type": "code",
   "execution_count": null,
   "metadata": {
    "ExecuteTime": {
     "end_time": "2020-06-27T17:10:21.009431Z",
     "start_time": "2020-06-27T17:10:20.222178Z"
    },
    "colab": {},
    "colab_type": "code",
    "id": "KKXb2K3PJWcF"
   },
   "outputs": [],
   "source": [
    "# split into dependent and independent arrays\n",
    "X = clean_train_data['message'].values\n",
    "y = clean_train_data['sentiment'].values\n",
    "\n",
    "# split into training and testing data\n",
    "X_train, X_test, y_train, y_test = train_test_split(X, y, test_size=0.3, random_state=4)"
   ]
  },
  {
   "cell_type": "code",
   "execution_count": null,
   "metadata": {
    "ExecuteTime": {
     "start_time": "2020-06-27T14:37:16.202Z"
    },
    "colab": {
     "base_uri": "https://localhost:8080/",
     "height": 153
    },
    "colab_type": "code",
    "id": "9kA80o8-JWcM",
    "outputId": "6f32fa66-2814-4e73-fa56-2f106127cce9"
   },
   "outputs": [
    {
     "name": "stdout",
     "output_type": "stream",
     "text": [
      "Training model 1 of 8: Logistic_regression\n",
      "Training model 2 of 8: SVC\n",
      "Training model 3 of 8: LinearSVC\n",
      "Training model 4 of 8: MultinomialNB\n",
      "Training model 5 of 8: Random_Forest\n",
      "Training model 6 of 8: KNeighbors\n",
      "Training model 7 of 8: AdaBoost\n",
      "Training model 8 of 8: GradientBoost\n"
     ]
    }
   ],
   "source": [
    "# run the functions to train the models\n",
    "post_prep_performance, post_prep_trained_models = models_to_train(X_train,X_test,y_train,y_test,train_models)\n",
    "# post_prep_performance, post_prep_model = sequence_model(clean_train_data,post_prep_performance,epochs=4)\n",
    "# post_prep_trained_models['Sequential'] = post_prep_model"
   ]
  },
  {
   "cell_type": "code",
   "execution_count": null,
   "metadata": {
    "colab": {},
    "colab_type": "code",
    "id": "-3378czUm75H"
   },
   "outputs": [],
   "source": [
    "# with bz2.BZ2File('post_prep_model.pbz2','wb') as file:\n",
    "#      cPickle.dump(post_prep_model,file)\n",
    "\n",
    "post_prep_model = cPickle.load(bz2.BZ2File(\"post_prep_model.pbz2\", \"rb\"))\n",
    "post_prep_trained_models['Sequential'] = post_prep_model\n",
    "\n",
    "\n",
    "# post_prep_performance.to_csv('post_prep_performance.csv')\n",
    "post_prep_performance = pd.read_csv('https://raw.githubusercontent.com/team-rm4-JHB-classificationpredict/team_rm4_JHB_classification/master/predict_deliverables/data/post_prep_performance.csv',index_col=0)"
   ]
  },
  {
   "cell_type": "markdown",
   "metadata": {
    "colab_type": "text",
    "id": "SD9-Kp_mJWcT"
   },
   "source": [
    "In the code cells below, we can see that the performance of the models has dropped after cleaning the data. This can be anticipated as we have removed multiple elements from the tweets in the data frame. We start by creating a dataframe with the weighted average f1 scores for all the experiments done by far."
   ]
  },
  {
   "cell_type": "code",
   "execution_count": null,
   "metadata": {
    "ExecuteTime": {
     "start_time": "2020-06-27T14:37:16.209Z"
    },
    "colab": {
     "base_uri": "https://localhost:8080/",
     "height": 328
    },
    "colab_type": "code",
    "id": "K3FAsaUyJWcU",
    "outputId": "0828495d-d29d-4efc-dbc1-c04a1d5f8290"
   },
   "outputs": [
    {
     "data": {
      "text/html": [
       "<div>\n",
       "<style scoped>\n",
       "    .dataframe tbody tr th:only-of-type {\n",
       "        vertical-align: middle;\n",
       "    }\n",
       "\n",
       "    .dataframe tbody tr th {\n",
       "        vertical-align: top;\n",
       "    }\n",
       "\n",
       "    .dataframe thead th {\n",
       "        text-align: right;\n",
       "    }\n",
       "</style>\n",
       "<table border=\"1\" class=\"dataframe\">\n",
       "  <thead>\n",
       "    <tr style=\"text-align: right;\">\n",
       "      <th></th>\n",
       "      <th>weighted_average_raw</th>\n",
       "      <th>weighted_average_upsampled</th>\n",
       "      <th>weighted_average</th>\n",
       "    </tr>\n",
       "  </thead>\n",
       "  <tbody>\n",
       "    <tr>\n",
       "      <th>LinearSVC</th>\n",
       "      <td>0.74</td>\n",
       "      <td>0.95</td>\n",
       "      <td>0.90</td>\n",
       "    </tr>\n",
       "    <tr>\n",
       "      <th>Sequential</th>\n",
       "      <td>0.72</td>\n",
       "      <td>0.94</td>\n",
       "      <td>0.90</td>\n",
       "    </tr>\n",
       "    <tr>\n",
       "      <th>SVC</th>\n",
       "      <td>0.70</td>\n",
       "      <td>0.95</td>\n",
       "      <td>0.94</td>\n",
       "    </tr>\n",
       "    <tr>\n",
       "      <th>Logistic_regression</th>\n",
       "      <td>0.69</td>\n",
       "      <td>0.85</td>\n",
       "      <td>0.82</td>\n",
       "    </tr>\n",
       "    <tr>\n",
       "      <th>Random_Forest</th>\n",
       "      <td>0.67</td>\n",
       "      <td>0.95</td>\n",
       "      <td>0.94</td>\n",
       "    </tr>\n",
       "    <tr>\n",
       "      <th>KNeighbors</th>\n",
       "      <td>0.66</td>\n",
       "      <td>0.77</td>\n",
       "      <td>0.74</td>\n",
       "    </tr>\n",
       "    <tr>\n",
       "      <th>GradientBoost</th>\n",
       "      <td>0.66</td>\n",
       "      <td>0.67</td>\n",
       "      <td>0.62</td>\n",
       "    </tr>\n",
       "    <tr>\n",
       "      <th>AdaBoost</th>\n",
       "      <td>0.61</td>\n",
       "      <td>0.57</td>\n",
       "      <td>0.55</td>\n",
       "    </tr>\n",
       "    <tr>\n",
       "      <th>MultinomialNB</th>\n",
       "      <td>0.52</td>\n",
       "      <td>0.78</td>\n",
       "      <td>0.76</td>\n",
       "    </tr>\n",
       "  </tbody>\n",
       "</table>\n",
       "</div>"
      ],
      "text/plain": [
       "                     weighted_average_raw  ...  weighted_average\n",
       "LinearSVC                            0.74  ...              0.90\n",
       "Sequential                           0.72  ...              0.90\n",
       "SVC                                  0.70  ...              0.94\n",
       "Logistic_regression                  0.69  ...              0.82\n",
       "Random_Forest                        0.67  ...              0.94\n",
       "KNeighbors                           0.66  ...              0.74\n",
       "GradientBoost                        0.66  ...              0.62\n",
       "AdaBoost                             0.61  ...              0.55\n",
       "MultinomialNB                        0.52  ...              0.76\n",
       "\n",
       "[9 rows x 3 columns]"
      ]
     },
     "execution_count": 61,
     "metadata": {
      "tags": []
     },
     "output_type": "execute_result"
    }
   ],
   "source": [
    "# create a dataframe for all trials\n",
    "relative_performance = performance.merge(sampled_performance,\n",
    "                        left_index=True,right_index=True,\n",
    "                        suffixes=('_raw', '_upsampled')).merge(\n",
    "                        post_prep_performance,left_index=True,\n",
    "                        right_index=True,suffixes=('', '_clean'))\n",
    "# columns to remove\n",
    "remove1 = list(relative_performance.columns)[1]\n",
    "remove2 = list(relative_performance.columns)[3]\n",
    "remove3 = list(relative_performance.columns)[-1]\n",
    "\n",
    "# \n",
    "relative_performance.drop([remove1,remove2,remove3],axis=1,inplace=True)\n",
    "del remove1, remove2, remove3\n",
    "relative_performance"
   ]
  },
  {
   "cell_type": "markdown",
   "metadata": {
    "colab_type": "text",
    "id": "2lXmWA1vJWca"
   },
   "source": [
    "As it can be seen in the dataframe above, the upsampling has improved the performance of the models significantly. However, the cleaning of the data has reduced that performance gained from resampling. As it can be seen in the line graph below, the upsampled data by far performs best as it consistently improves the performance across all models. The Ada Boost model on the contrary, is not impacted significantly by the process of upsampling. If anything, it is decreasing as we upsample and clean. The gradient boost is also not impacted significantly by upsampling (relative to the other models). This can be an indication of the two model's resistance to overfitting during the training of the models."
   ]
  },
  {
   "cell_type": "code",
   "execution_count": null,
   "metadata": {
    "ExecuteTime": {
     "start_time": "2020-06-27T14:37:16.216Z"
    },
    "colab": {
     "base_uri": "https://localhost:8080/",
     "height": 391
    },
    "colab_type": "code",
    "id": "aXgTZCXVJWcb",
    "outputId": "a3c8090a-c18e-4585-e247-aad3be43e5ec"
   },
   "outputs": [
    {
     "data": {
      "image/png": "[encoded data removed]",
      "text/plain": [
       "<Figure size 720x432 with 1 Axes>"
      ]
     },
     "metadata": {
      "tags": []
     },
     "output_type": "display_data"
    }
   ],
   "source": [
    " def all_models_performance(relative_performance):\n",
    "    ''' plot the changes in the scores pre and post data transformation.'''\n",
    "    fig = plt.figure(figsize=(10,6))\n",
    "\n",
    "    for col in relative_performance.T.columns:\n",
    "       plt.plot(relative_performance.T[col],label=col)\n",
    "       plt.legend()\n",
    "      \n",
    "    plt.title('Weigted Average f1 score')\n",
    "    plt.ylabel('F1 Score')\n",
    "  \n",
    "    return fig\n",
    "\n",
    "_ = all_models_performance(relative_performance)"
   ]
  },
  {
   "cell_type": "markdown",
   "metadata": {
    "colab_type": "text",
    "id": "hHupoGyHJWch"
   },
   "source": [
    "Below we go back to investigationg how each model has classified the sentiments when we made prdictions. As it can be seen, there aren't any anomalies in the distribution of the classifications. The distributions are as we could anticipate them to be. Unlike with the base models, the Multinomial Naives Bayes model has seen a significant improvement in its performance.The model has done better than the Gradient Boost, Ada Boost and the K nearest neighbors models in terms of it's weighted average f1 score."
   ]
  },
  {
   "cell_type": "code",
   "execution_count": null,
   "metadata": {
    "ExecuteTime": {
     "start_time": "2020-06-27T14:37:16.222Z"
    },
    "colab": {
     "base_uri": "https://localhost:8080/",
     "height": 441
    },
    "colab_type": "code",
    "id": "JtbtPVU7JWch",
    "outputId": "e85fb486-76ff-4d85-e3f4-733311eb8627"
   },
   "outputs": [
    {
     "data": {
      "image/png": "[encoded data removed]",
      "text/plain": [
       "<Figure size 792x432 with 9 Axes>"
      ]
     },
     "metadata": {
      "tags": []
     },
     "output_type": "display_data"
    }
   ],
   "source": [
    "post_prep_predictions = distribution_of_sentiment(post_prep_trained_models,X_test)\n",
    "_ = sentiment_figures(post_prep_predictions)"
   ]
  },
  {
   "cell_type": "markdown",
   "metadata": {
    "colab_type": "text",
    "id": "LbKy_d8Hxh-y"
   },
   "source": [
    "As per the classification report for the multinomialNB model, we can see that the model has improved its predictive accuracy and the precision in classifying the sentiments."
   ]
  },
  {
   "cell_type": "code",
   "execution_count": null,
   "metadata": {
    "colab": {
     "base_uri": "https://localhost:8080/",
     "height": 204
    },
    "colab_type": "code",
    "id": "pCZtqIDKwTdv",
    "outputId": "1368c336-ccc4-43dd-b683-989f14c6263c"
   },
   "outputs": [
    {
     "name": "stdout",
     "output_type": "stream",
     "text": [
      "              precision    recall  f1-score   support\n",
      "\n",
      "          -1       0.61      0.95      0.74      1003\n",
      "           0       0.55      0.92      0.69      1242\n",
      "           1       0.93      0.67      0.78      5664\n",
      "           2       0.78      0.85      0.81      2347\n",
      "\n",
      "    accuracy                           0.77     10256\n",
      "   macro avg       0.72      0.84      0.75     10256\n",
      "weighted avg       0.82      0.77      0.77     10256\n",
      "\n"
     ]
    }
   ],
   "source": [
    "# print the classification report for the multinomial naives bayes\n",
    "print(classification_report(post_prep_trained_models['MultinomialNB'].predict(X_test),y_test))"
   ]
  },
  {
   "cell_type": "markdown",
   "metadata": {
    "colab_type": "text",
    "id": "fn3UYITNyWTR"
   },
   "source": [
    "Lastly we revisit the weighted average f1 score bar graph. As it can be seen here, the SVC and the Random forest perform best."
   ]
  },
  {
   "cell_type": "code",
   "execution_count": null,
   "metadata": {
    "colab": {
     "base_uri": "https://localhost:8080/",
     "height": 469
    },
    "colab_type": "code",
    "id": "yPI6Kq8xx-wo",
    "outputId": "8c82625a-0bfa-40fa-d2c9-f7c91f3e7361"
   },
   "outputs": [
    {
     "data": {
      "image/png": "[encoded data removed]",
      "text/plain": [
       "<Figure size 864x432 with 1 Axes>"
      ]
     },
     "metadata": {
      "tags": []
     },
     "output_type": "display_data"
    }
   ],
   "source": [
    "_ = model_scores(post_prep_performance)"
   ]
  },
  {
   "cell_type": "markdown",
   "metadata": {
    "colab_type": "text",
    "id": "sbLRlodYJWcl"
   },
   "source": [
    "###### Conclusion\n",
    "In this section we looked and upsampling and cleaning the data in the dataframe. We have seen how the models perform better when the data is upsampled. This has resulted in the SVC and the random forest having significant improvements in their performance. Prior to the above exploration, the Linear SVC model was outperforming all the base models that were trained in the Base Models section. The experiment above however suggests that the model is doing just as well as the csv and the random forest.\n",
    "\n",
    "In the following section of the notebook, we  will be looking at different hyperparameter tunning methods to try and improve the performance further."
   ]
  },
  {
   "cell_type": "markdown",
   "metadata": {
    "colab_type": "text",
    "id": "06o2qPk6JWcl"
   },
   "source": [
    "# Hyperparameter Tunning\n",
    "In this section we are going to explore tunning the parameters for the best performing models from out base models. In the previous section we have established that the performance of the Gradient boosting and the Ada boosting models is relatively low. The inclusion of this models in this section would be redundant as we do not anticipate that they would improve in their performance.\n",
    "\n",
    "From this section going forward, we will only include models with a weighted average f1 score above 0.80."
   ]
  },
  {
   "cell_type": "markdown",
   "metadata": {
    "colab_type": "text",
    "id": "47YT7h7TJ2lE"
   },
   "source": [
    "## Models to tune\n",
    "Here we select models to use in this section.\n",
    "Below we display the performance of the models sorted from the best performing model to the worst. We then trim the relative performance to the top five models."
   ]
  },
  {
   "cell_type": "code",
   "execution_count": null,
   "metadata": {
    "colab": {
     "base_uri": "https://localhost:8080/",
     "height": 204
    },
    "colab_type": "code",
    "id": "oUZYFr0jHx7Q",
    "outputId": "1100b616-d713-400d-a367-bccd024a9629"
   },
   "outputs": [
    {
     "data": {
      "text/html": [
       "<div>\n",
       "<style scoped>\n",
       "    .dataframe tbody tr th:only-of-type {\n",
       "        vertical-align: middle;\n",
       "    }\n",
       "\n",
       "    .dataframe tbody tr th {\n",
       "        vertical-align: top;\n",
       "    }\n",
       "\n",
       "    .dataframe thead th {\n",
       "        text-align: right;\n",
       "    }\n",
       "</style>\n",
       "<table border=\"1\" class=\"dataframe\">\n",
       "  <thead>\n",
       "    <tr style=\"text-align: right;\">\n",
       "      <th></th>\n",
       "      <th>weighted_average_raw</th>\n",
       "      <th>weighted_average_upsampled</th>\n",
       "      <th>weighted_average</th>\n",
       "    </tr>\n",
       "  </thead>\n",
       "  <tbody>\n",
       "    <tr>\n",
       "      <th>SVC</th>\n",
       "      <td>0.70</td>\n",
       "      <td>0.95</td>\n",
       "      <td>0.94</td>\n",
       "    </tr>\n",
       "    <tr>\n",
       "      <th>Random_Forest</th>\n",
       "      <td>0.67</td>\n",
       "      <td>0.95</td>\n",
       "      <td>0.94</td>\n",
       "    </tr>\n",
       "    <tr>\n",
       "      <th>LinearSVC</th>\n",
       "      <td>0.74</td>\n",
       "      <td>0.95</td>\n",
       "      <td>0.90</td>\n",
       "    </tr>\n",
       "    <tr>\n",
       "      <th>Sequential</th>\n",
       "      <td>0.72</td>\n",
       "      <td>0.94</td>\n",
       "      <td>0.90</td>\n",
       "    </tr>\n",
       "    <tr>\n",
       "      <th>Logistic_regression</th>\n",
       "      <td>0.69</td>\n",
       "      <td>0.85</td>\n",
       "      <td>0.82</td>\n",
       "    </tr>\n",
       "  </tbody>\n",
       "</table>\n",
       "</div>"
      ],
      "text/plain": [
       "                     weighted_average_raw  ...  weighted_average\n",
       "SVC                                  0.70  ...              0.94\n",
       "Random_Forest                        0.67  ...              0.94\n",
       "LinearSVC                            0.74  ...              0.90\n",
       "Sequential                           0.72  ...              0.90\n",
       "Logistic_regression                  0.69  ...              0.82\n",
       "\n",
       "[5 rows x 3 columns]"
      ]
     },
     "execution_count": 66,
     "metadata": {
      "tags": []
     },
     "output_type": "execute_result"
    }
   ],
   "source": [
    "relative_performance.sort_values(by='weighted_average',ascending=False,inplace=True)\n",
    "relative_performance[relative_performance['weighted_average']>0.8]"
   ]
  },
  {
   "cell_type": "markdown",
   "metadata": {
    "colab_type": "text",
    "id": "Rr4hFvRiJWcm"
   },
   "source": [
    "### Support Vector Classifier\n",
    "For the parameter tunning of the support vector classifier, we will be using the sklearn GridSearchCV module. In this experiment, we will be seeking to get the best performing parameters by altering the kernel, C and the gamma of the svc model. The kernels tested are the Radial-basis function (rbf) and the polynomial kernel. This are followed by C values (Regularization parameter) of 0.25 and 1.0. We will also do the experiment using gamma values 1 and 2.\n",
    "\n",
    "We will also do a cross validation for the models and then take the best performing model from the experiment. The grid search will use the weighted average f1 scores to rank the performances of each train in the grid search process. In the code cell below, we are creating a pipeline which we are to use in training the svc model."
   ]
  },
  {
   "cell_type": "code",
   "execution_count": null,
   "metadata": {
    "colab": {},
    "colab_type": "code",
    "id": "BCqzm-DqT8Wn"
   },
   "outputs": [],
   "source": [
    "# specify the parameters to be used\n",
    "parameters = {'kernel':('rbf','poly'), \n",
    "              'C':(0.25,1.0),\n",
    "              'gamma': (1,2)}\n",
    "\n",
    "# create a pipeline\n",
    "svc_grid = Pipeline([('vectorizer',TfidfVectorizer()),\n",
    "                    ('SVC',GridSearchCV(estimator=SVC(),param_grid=parameters,\n",
    "                                        scoring='f1_weighted', cv=5))])"
   ]
  },
  {
   "cell_type": "markdown",
   "metadata": {
    "colab_type": "text",
    "id": "_AGZWi7_5b2C"
   },
   "source": [
    "In the code cell below, we create a dictionary that will store tuned pipeline models."
   ]
  },
  {
   "cell_type": "code",
   "execution_count": null,
   "metadata": {
    "colab": {},
    "colab_type": "code",
    "id": "IwnxkLNVfOvD"
   },
   "outputs": [],
   "source": [
    "# create a dictionary of models to train\n",
    "tune_models = {'SVC':svc_grid}"
   ]
  },
  {
   "cell_type": "markdown",
   "metadata": {
    "colab_type": "text",
    "id": "PlkX-8wj6B8M"
   },
   "source": [
    "###### task: split the data into train tests arrays\n",
    "Given the decline in performance post cleaning the data, we have opted to use the uncleaned, yet upsampled data to train the tuned models. Here we split the data into train test data arrays."
   ]
  },
  {
   "cell_type": "code",
   "execution_count": null,
   "metadata": {
    "colab": {},
    "colab_type": "code",
    "id": "F9Htu2moqzab"
   },
   "outputs": [],
   "source": [
    "# split into dependent and independent arrays\n",
    "X = clean_train_data['message'].values\n",
    "y = clean_train_data['sentiment'].values\n",
    "\n",
    "# split into training and testing data\n",
    "X_train, X_test, y_train, y_test = train_test_split(X, y, test_size=0.3, random_state=4)"
   ]
  },
  {
   "cell_type": "markdown",
   "metadata": {
    "colab_type": "text",
    "id": "iEp5iiHH6j30"
   },
   "source": [
    "Below we train the tuned model using the function models_to_train() which was defined in the Base Models section. Due to the time it takes to train the below model, we have saved the output in a csv file."
   ]
  },
  {
   "cell_type": "code",
   "execution_count": null,
   "metadata": {
    "colab": {
     "base_uri": "https://localhost:8080/",
     "height": 34
    },
    "colab_type": "code",
    "id": "Dx9rssNLfAvq",
    "outputId": "b6cb782a-26f5-4db3-d58c-dbd3c424bc21"
   },
   "outputs": [
    {
     "name": "stdout",
     "output_type": "stream",
     "text": [
      "Training model 1 of 1: SVC\n"
     ]
    }
   ],
   "source": [
    "# # train the model\n",
    "# tuned_performance, tuned_model = models_to_train(X_train,X_test,y_train,y_test,\n",
    "#                                                  tune_models)"
   ]
  },
  {
   "cell_type": "markdown",
   "metadata": {
    "colab_type": "text",
    "id": "SRF45WHrTHAw"
   },
   "source": [
    "Below we upload the saved dataframe."
   ]
  },
  {
   "cell_type": "code",
   "execution_count": null,
   "metadata": {
    "colab": {},
    "colab_type": "code",
    "id": "8AkCV9GgGfzp"
   },
   "outputs": [],
   "source": [
    "#tuned_performance.to_csv('tuned_performance.csv')\n",
    "tuned_performance = pd.read_csv('https://raw.githubusercontent.com/team-rm4-JHB-classificationpredict/team_rm4_JHB_classification/master/predict_deliverables/data/tuned_performance.csv',index_col=0)"
   ]
  },
  {
   "cell_type": "code",
   "execution_count": null,
   "metadata": {
    "colab": {},
    "colab_type": "code",
    "id": "ZVLis920oVGV"
   },
   "outputs": [],
   "source": [
    "# y_pred =tuned_model['SVC'].predict(test_data.message.values)\n",
    "# pd.DataFrame(data = y_pred,index = list(test_data.index),columns=['sentiment']).reset_index().rename({'index':'tweetid'},axis=1).set_index('tweetid').to_csv('submit_me.csv')\n"
   ]
  },
  {
   "cell_type": "markdown",
   "metadata": {
    "colab_type": "text",
    "id": "4p1F4FWaScEp"
   },
   "source": [
    "### Linear Support Vector Cassifier\n",
    "For the LinearSVC, we are going to be using four regularization (C) values and cross validate the model 5 times. The gridsearchcv object will thus return the best performing model parameters. Like with the svc above, the model will be applied to the upsampled, but not cleaned data. In the code cell below, we start off by creating a pipeline for the model training."
   ]
  },
  {
   "cell_type": "code",
   "execution_count": null,
   "metadata": {
    "colab": {},
    "colab_type": "code",
    "id": "csyaG7-KUCXp"
   },
   "outputs": [],
   "source": [
    "# specify the parameters to be used\n",
    "parameters = {'C':(0.25,0.5,0.75,1.0)}\n",
    "\n",
    "# create a pipeline with the gridsearchcv\n",
    "linear_svc_grid = Pipeline([('vectorizer',TfidfVectorizer()),\n",
    "                            ('Linear_SVC',GridSearchCV(estimator=LinearSVC(),\n",
    "                              param_grid=parameters,scoring='f1_weighted',cv=5))])"
   ]
  },
  {
   "cell_type": "markdown",
   "metadata": {
    "colab_type": "text",
    "id": "037K5TcvAQjZ"
   },
   "source": [
    "In the code cell below, we create a dictionary that will store the tuned LinearSVC pipeline model."
   ]
  },
  {
   "cell_type": "code",
   "execution_count": null,
   "metadata": {
    "colab": {},
    "colab_type": "code",
    "id": "SIM3sbeLAb3H"
   },
   "outputs": [],
   "source": [
    "linsvc_model = {'LinearSVC': linear_svc_grid}"
   ]
  },
  {
   "cell_type": "markdown",
   "metadata": {
    "colab_type": "text",
    "id": "s8nLy-iYC2RP"
   },
   "source": [
    "Train the tuned model."
   ]
  },
  {
   "cell_type": "code",
   "execution_count": null,
   "metadata": {
    "colab": {
     "base_uri": "https://localhost:8080/",
     "height": 34
    },
    "colab_type": "code",
    "id": "cL8FjdT3C6-h",
    "outputId": "68a5e696-6548-44db-f1fd-f06b83be4475"
   },
   "outputs": [
    {
     "name": "stdout",
     "output_type": "stream",
     "text": [
      "Training model 1 of 1: LinearSVC\n"
     ]
    }
   ],
   "source": [
    "linsvc_performance, linsvc_model = models_to_train(X_train,X_test,\n",
    "                                                  y_train,y_test, linsvc_model)\n",
    "\n",
    "# add the LinearSVC model to the tuned models dictionary\n",
    "#tuned_model[list(linsvc_model.keys())[0]] = list(linsvc_model.values())[0]\n",
    "\n",
    "tuned_performance = pd.concat([tuned_performance,linsvc_performance])"
   ]
  },
  {
   "cell_type": "markdown",
   "metadata": {
    "colab_type": "text",
    "id": "N7KdDatoSm4g"
   },
   "source": [
    "### Logistic Regression\n",
    "For the logistic regression model, we are going to be using four regularization (C) values and cross validate the model 5 times. The gridsearchcv object will thus return the best performing model parameters. Like with the linearsvc above, the model will be applied to the upsampled, but not cleaned data. In the code cell below, we start off by creating a pipeline for the model training."
   ]
  },
  {
   "cell_type": "code",
   "execution_count": null,
   "metadata": {
    "colab": {},
    "colab_type": "code",
    "id": "GSJcri17UONx"
   },
   "outputs": [],
   "source": [
    "# specify the parameters to be used\n",
    "parameters = {'C':(0.25,0.5,0.75,1.0),\n",
    "              'solver':('lbfgs','saga','newton-cg')}\n",
    "\n",
    "# create a pipeline with the gridsearchcv\n",
    "logistic_grid = Pipeline([('vectorizer',TfidfVectorizer()),('Logistic_regr',\n",
    "                                GridSearchCV(estimator=LogisticRegression(),\n",
    "                                param_grid=parameters,scoring='f1_weighted',\n",
    "                                cv=5))])"
   ]
  },
  {
   "cell_type": "markdown",
   "metadata": {
    "colab_type": "text",
    "id": "TdgNlP5OP7ii"
   },
   "source": [
    "In the code cell below, we create a dictionary that will store the tuned logistic regression pipeline model.\n"
   ]
  },
  {
   "cell_type": "code",
   "execution_count": null,
   "metadata": {
    "colab": {},
    "colab_type": "code",
    "id": "JWYd_pKLP-X0"
   },
   "outputs": [],
   "source": [
    "logic_model = {'Logistic_regression':logistic_grid}"
   ]
  },
  {
   "cell_type": "markdown",
   "metadata": {
    "colab_type": "text",
    "id": "DOnmTbn1QwvX"
   },
   "source": [
    "Train the tuned model."
   ]
  },
  {
   "cell_type": "code",
   "execution_count": null,
   "metadata": {
    "colab": {
     "base_uri": "https://localhost:8080/",
     "height": 34
    },
    "colab_type": "code",
    "id": "GQjCfdFJQoNF",
    "outputId": "c804ca24-5465-40e3-9e8a-876180fb23d5"
   },
   "outputs": [
    {
     "name": "stdout",
     "output_type": "stream",
     "text": [
      "Training model 1 of 1: Logistic_regression\n"
     ]
    }
   ],
   "source": [
    "log_performance, log_model = models_to_train(X_train,X_test,\n",
    "                                            y_train,y_test, logic_model)\n",
    "\n",
    "# add the LinearSVC model to the tuned models dictionary\n",
    "#tuned_model[list(log_model.keys())[0]] = list(log_model.values())[0]\n",
    "\n",
    "tuned_performance = pd.concat([tuned_performance,log_performance])"
   ]
  },
  {
   "cell_type": "markdown",
   "metadata": {
    "colab_type": "text",
    "id": "LYqtgHkKdzry"
   },
   "source": [
    "Now that we have tunned out models, in the next section of the notebook we are going to look at how the experiment above has affected each model's performance."
   ]
  },
  {
   "cell_type": "markdown",
   "metadata": {
    "colab_type": "text",
    "id": "WkvwWSKJRSGi"
   },
   "source": [
    "## Performance Evaluation\n",
    "The dataframe displayed below shows the weighted average f1 score as well as the accuracy scores of the models post the hyperparameter tuning experiment."
   ]
  },
  {
   "cell_type": "code",
   "execution_count": null,
   "metadata": {
    "colab": {
     "base_uri": "https://localhost:8080/",
     "height": 142
    },
    "colab_type": "code",
    "id": "BzMupuWOeuwQ",
    "outputId": "fb94e18e-85d7-434d-ddfd-1de855ea2511"
   },
   "outputs": [
    {
     "data": {
      "text/html": [
       "<div>\n",
       "<style scoped>\n",
       "    .dataframe tbody tr th:only-of-type {\n",
       "        vertical-align: middle;\n",
       "    }\n",
       "\n",
       "    .dataframe tbody tr th {\n",
       "        vertical-align: top;\n",
       "    }\n",
       "\n",
       "    .dataframe thead th {\n",
       "        text-align: right;\n",
       "    }\n",
       "</style>\n",
       "<table border=\"1\" class=\"dataframe\">\n",
       "  <thead>\n",
       "    <tr style=\"text-align: right;\">\n",
       "      <th></th>\n",
       "      <th>accuracy_score</th>\n",
       "      <th>weighted_average</th>\n",
       "    </tr>\n",
       "  </thead>\n",
       "  <tbody>\n",
       "    <tr>\n",
       "      <th>SVC</th>\n",
       "      <td>0.9462</td>\n",
       "      <td>0.95</td>\n",
       "    </tr>\n",
       "    <tr>\n",
       "      <th>LinearSVC</th>\n",
       "      <td>0.9033</td>\n",
       "      <td>0.90</td>\n",
       "    </tr>\n",
       "    <tr>\n",
       "      <th>Logistic_regression</th>\n",
       "      <td>0.8467</td>\n",
       "      <td>0.85</td>\n",
       "    </tr>\n",
       "  </tbody>\n",
       "</table>\n",
       "</div>"
      ],
      "text/plain": [
       "                     accuracy_score  weighted_average\n",
       "SVC                          0.9462              0.95\n",
       "LinearSVC                    0.9033              0.90\n",
       "Logistic_regression          0.8467              0.85"
      ]
     },
     "execution_count": 80,
     "metadata": {
      "tags": []
     },
     "output_type": "execute_result"
    }
   ],
   "source": [
    "tuned_performance"
   ]
  },
  {
   "cell_type": "markdown",
   "metadata": {
    "colab_type": "text",
    "id": "mUdoEwtMgjIQ"
   },
   "source": [
    "Below we merge the above dataframe with the relative performace dataframe defined in the data transformation section."
   ]
  },
  {
   "cell_type": "code",
   "execution_count": null,
   "metadata": {
    "colab": {
     "base_uri": "https://localhost:8080/",
     "height": 328
    },
    "colab_type": "code",
    "id": "ohvgDmHCJWcq",
    "outputId": "72f22af5-4ca1-4577-dae8-ae34f4d19486"
   },
   "outputs": [
    {
     "data": {
      "text/html": [
       "<div>\n",
       "<style scoped>\n",
       "    .dataframe tbody tr th:only-of-type {\n",
       "        vertical-align: middle;\n",
       "    }\n",
       "\n",
       "    .dataframe tbody tr th {\n",
       "        vertical-align: top;\n",
       "    }\n",
       "\n",
       "    .dataframe thead th {\n",
       "        text-align: right;\n",
       "    }\n",
       "</style>\n",
       "<table border=\"1\" class=\"dataframe\">\n",
       "  <thead>\n",
       "    <tr style=\"text-align: right;\">\n",
       "      <th></th>\n",
       "      <th>weighted_average_raw</th>\n",
       "      <th>weighted_average_upsampled</th>\n",
       "      <th>weighted_average</th>\n",
       "      <th>weighted_average_tuned</th>\n",
       "    </tr>\n",
       "  </thead>\n",
       "  <tbody>\n",
       "    <tr>\n",
       "      <th>SVC</th>\n",
       "      <td>0.70</td>\n",
       "      <td>0.95</td>\n",
       "      <td>0.94</td>\n",
       "      <td>0.95</td>\n",
       "    </tr>\n",
       "    <tr>\n",
       "      <th>LinearSVC</th>\n",
       "      <td>0.74</td>\n",
       "      <td>0.95</td>\n",
       "      <td>0.90</td>\n",
       "      <td>0.90</td>\n",
       "    </tr>\n",
       "    <tr>\n",
       "      <th>Logistic_regression</th>\n",
       "      <td>0.69</td>\n",
       "      <td>0.85</td>\n",
       "      <td>0.82</td>\n",
       "      <td>0.85</td>\n",
       "    </tr>\n",
       "    <tr>\n",
       "      <th>Random_Forest</th>\n",
       "      <td>0.67</td>\n",
       "      <td>0.95</td>\n",
       "      <td>0.94</td>\n",
       "      <td>NaN</td>\n",
       "    </tr>\n",
       "    <tr>\n",
       "      <th>Sequential</th>\n",
       "      <td>0.72</td>\n",
       "      <td>0.94</td>\n",
       "      <td>0.90</td>\n",
       "      <td>NaN</td>\n",
       "    </tr>\n",
       "    <tr>\n",
       "      <th>MultinomialNB</th>\n",
       "      <td>0.52</td>\n",
       "      <td>0.78</td>\n",
       "      <td>0.76</td>\n",
       "      <td>NaN</td>\n",
       "    </tr>\n",
       "    <tr>\n",
       "      <th>KNeighbors</th>\n",
       "      <td>0.66</td>\n",
       "      <td>0.77</td>\n",
       "      <td>0.74</td>\n",
       "      <td>NaN</td>\n",
       "    </tr>\n",
       "    <tr>\n",
       "      <th>GradientBoost</th>\n",
       "      <td>0.66</td>\n",
       "      <td>0.67</td>\n",
       "      <td>0.62</td>\n",
       "      <td>NaN</td>\n",
       "    </tr>\n",
       "    <tr>\n",
       "      <th>AdaBoost</th>\n",
       "      <td>0.61</td>\n",
       "      <td>0.57</td>\n",
       "      <td>0.55</td>\n",
       "      <td>NaN</td>\n",
       "    </tr>\n",
       "  </tbody>\n",
       "</table>\n",
       "</div>"
      ],
      "text/plain": [
       "                     weighted_average_raw  ...  weighted_average_tuned\n",
       "SVC                                  0.70  ...                    0.95\n",
       "LinearSVC                            0.74  ...                    0.90\n",
       "Logistic_regression                  0.69  ...                    0.85\n",
       "Random_Forest                        0.67  ...                     NaN\n",
       "Sequential                           0.72  ...                     NaN\n",
       "MultinomialNB                        0.52  ...                     NaN\n",
       "KNeighbors                           0.66  ...                     NaN\n",
       "GradientBoost                        0.66  ...                     NaN\n",
       "AdaBoost                             0.61  ...                     NaN\n",
       "\n",
       "[9 rows x 4 columns]"
      ]
     },
     "execution_count": 81,
     "metadata": {
      "tags": []
     },
     "output_type": "execute_result"
    }
   ],
   "source": [
    "# merge the new performance with the relative performance dataframe\n",
    "tunned_re_performance = relative_performance.merge(tuned_performance,\n",
    "                                            how='left',left_index=True,\n",
    "                                            right_index=True, suffixes=(' ','_tuned'))\n",
    "\n",
    "# drop the accuracy score column & sort accordingly\n",
    "tunned_re_performance.drop('accuracy_score',axis=1,inplace=True)\n",
    "tunned_re_performance.sort_values(by=list(tunned_re_performance.columns)[-1],\n",
    "                                  ascending=False,inplace=True)\n",
    "\n",
    "tunned_re_performance"
   ]
  },
  {
   "cell_type": "markdown",
   "metadata": {
    "colab_type": "text",
    "id": "N3A33dYzTvg0"
   },
   "source": [
    "As per the data in the dataframe above, we can see that the three models that have been tuned haven't seen much improvement relative to the performance of the models when we upsampled the data. Below is a graphical display of how the weighted average f1 score has changed from the initial base model training."
   ]
  },
  {
   "cell_type": "code",
   "execution_count": null,
   "metadata": {
    "colab": {
     "base_uri": "https://localhost:8080/",
     "height": 391
    },
    "colab_type": "code",
    "id": "9nQIorlBe18u",
    "outputId": "cabe7d79-282f-4063-e88f-1d337dab9cd4"
   },
   "outputs": [
    {
     "data": {
      "image/png": "[encoded data removed]",
      "text/plain": [
       "<Figure size 720x432 with 1 Axes>"
      ]
     },
     "metadata": {
      "tags": []
     },
     "output_type": "display_data"
    }
   ],
   "source": [
    "# display the performance of the tunned models.\n",
    "_ = all_models_performance(tunned_re_performance)"
   ]
  },
  {
   "cell_type": "markdown",
   "metadata": {
    "colab_type": "text",
    "id": "WBr8JXzuVRH4"
   },
   "source": [
    "###### Conclusion\n",
    "In the process of transforming and tunning the parameters, we have ended up with a decline in performance, for that reason, we are going to use the models post upsampling but before parameter tunning as by far they are the best performing models.\n",
    "\n",
    "In the dataframe displayed below, we display the performance from the upsampling section. "
   ]
  },
  {
   "cell_type": "code",
   "execution_count": null,
   "metadata": {
    "colab": {
     "base_uri": "https://localhost:8080/",
     "height": 328
    },
    "colab_type": "code",
    "id": "X4pM6ZvEWRIX",
    "outputId": "095e4238-e1b6-4631-f188-4516487e1405"
   },
   "outputs": [
    {
     "data": {
      "text/html": [
       "<div>\n",
       "<style scoped>\n",
       "    .dataframe tbody tr th:only-of-type {\n",
       "        vertical-align: middle;\n",
       "    }\n",
       "\n",
       "    .dataframe tbody tr th {\n",
       "        vertical-align: top;\n",
       "    }\n",
       "\n",
       "    .dataframe thead th {\n",
       "        text-align: right;\n",
       "    }\n",
       "</style>\n",
       "<table border=\"1\" class=\"dataframe\">\n",
       "  <thead>\n",
       "    <tr style=\"text-align: right;\">\n",
       "      <th></th>\n",
       "      <th>weighted_average</th>\n",
       "      <th>accuracy_score</th>\n",
       "    </tr>\n",
       "  </thead>\n",
       "  <tbody>\n",
       "    <tr>\n",
       "      <th>SVC</th>\n",
       "      <td>0.95</td>\n",
       "      <td>0.950200</td>\n",
       "    </tr>\n",
       "    <tr>\n",
       "      <th>LinearSVC</th>\n",
       "      <td>0.95</td>\n",
       "      <td>0.947300</td>\n",
       "    </tr>\n",
       "    <tr>\n",
       "      <th>Random_Forest</th>\n",
       "      <td>0.95</td>\n",
       "      <td>0.946100</td>\n",
       "    </tr>\n",
       "    <tr>\n",
       "      <th>Sequential</th>\n",
       "      <td>0.94</td>\n",
       "      <td>0.936135</td>\n",
       "    </tr>\n",
       "    <tr>\n",
       "      <th>Logistic_regression</th>\n",
       "      <td>0.85</td>\n",
       "      <td>0.855500</td>\n",
       "    </tr>\n",
       "    <tr>\n",
       "      <th>MultinomialNB</th>\n",
       "      <td>0.78</td>\n",
       "      <td>0.786500</td>\n",
       "    </tr>\n",
       "    <tr>\n",
       "      <th>KNeighbors</th>\n",
       "      <td>0.77</td>\n",
       "      <td>0.773500</td>\n",
       "    </tr>\n",
       "    <tr>\n",
       "      <th>GradientBoost</th>\n",
       "      <td>0.67</td>\n",
       "      <td>0.676600</td>\n",
       "    </tr>\n",
       "    <tr>\n",
       "      <th>AdaBoost</th>\n",
       "      <td>0.57</td>\n",
       "      <td>0.587600</td>\n",
       "    </tr>\n",
       "  </tbody>\n",
       "</table>\n",
       "</div>"
      ],
      "text/plain": [
       "                     weighted_average  accuracy_score\n",
       "SVC                              0.95        0.950200\n",
       "LinearSVC                        0.95        0.947300\n",
       "Random_Forest                    0.95        0.946100\n",
       "Sequential                       0.94        0.936135\n",
       "Logistic_regression              0.85        0.855500\n",
       "MultinomialNB                    0.78        0.786500\n",
       "KNeighbors                       0.77        0.773500\n",
       "GradientBoost                    0.67        0.676600\n",
       "AdaBoost                         0.57        0.587600"
      ]
     },
     "execution_count": 83,
     "metadata": {
      "tags": []
     },
     "output_type": "execute_result"
    }
   ],
   "source": [
    "sampled_performance"
   ]
  },
  {
   "cell_type": "markdown",
   "metadata": {
    "colab_type": "text",
    "id": "Ono46dfUjPe1"
   },
   "source": [
    "# Summary and Conclusion\n",
    "In this notebook we explored data which entailed tweets related to climate change and their belief on whether the user/tweet is pro, neutral or anti the belief. The data had a sentiment category of News as well, this were tweets that entailed relevant information regarding the topic at hand.\n",
    "\n",
    "We started off by exploring the data, then trained base models, transformed them and lastly, we tried tuning hyperparameters to try and improve the performance of the models.\n",
    "\n",
    "Our top five models in this notebook are the LinearSVC, SVC, Random forest, logidtic regression and a sequential neural network that we have trained. The performance metric that we were more interested in was the weighted average f1 score. This is mainly because the f1 score is a measure of accuracy which considers both the precision and recall scores.\n",
    "\n",
    "We have thus built predictive models which businesses can use to better understand their customer's take on climate change. Such a model can prove important in guiding business in terms of the strategies to be adopted in production, marketing etc."
   ]
  },
  {
   "cell_type": "markdown",
   "metadata": {
    "colab_type": "text",
    "id": "T2mk6wU-ZA3Q"
   },
   "source": [
    "## Kaggle Submission"
   ]
  },
  {
   "cell_type": "code",
   "execution_count": null,
   "metadata": {
    "colab": {},
    "colab_type": "code",
    "id": "7Cp3dk4wZHSq"
   },
   "outputs": [],
   "source": [
    "# split into dependent and independent arrays\n",
    "X = train_data['message'].values\n",
    "y = train_data['sentiment'].values\n",
    "\n",
    "# split into training and testing data\n",
    "X_train, X_test, y_train, y_test = train_test_split(X, y, test_size=0.3,\n",
    "                                                    random_state=4)\n",
    "\n",
    "train_models = {'SVC':svc_clf}\n",
    "\n",
    "# train the model\n",
    "sampled_performance, sampled_trained_models = models_to_train(X_train,X_test,\n",
    "                                                  y_train,y_test,train_models)\n",
    "\n",
    "# make predictions and return a dataframe.\n",
    "y_pred = sampled_trained_models['SVC'].predict(test_data.message.values)\n",
    "pd.DataFrame(data = y_pred,index = list(test_data.index),\n",
    "             columns=['sentiment']).reset_index().rename({'index':'tweetid'},\n",
    "                          axis=1).set_index('tweetid').to_csv('submit_me.csv')"
   ]
  },
  {
   "cell_type": "markdown",
   "metadata": {
    "colab_type": "text",
    "id": "KfO5E8H_QtNs"
   },
   "source": [
    "# Dictionaries for data to log into Comet"
   ]
  },
  {
   "cell_type": "code",
   "execution_count": null,
   "metadata": {
    "colab": {},
    "colab_type": "code",
    "id": "zGsDteorjNiO"
   },
   "outputs": [],
   "source": [
    "#batch_size = 50\n",
    "#num_classes = 4\n",
    "#epochs = 5\n",
    "#num_nodes = 4\n",
    "#optimizer = 'adam'\n",
    "#activation = 'softmax'\n",
    "\n",
    "\n",
    "\n",
    "\n",
    "#params={'batch_size':batch_size,\n",
    "        # 'epochs':epochs,\n",
    "        # 'layer1_type':'Dense',\n",
    "        # 'layer1_num_nodes':num_nodes,\n",
    "        # 'layer1_activation':activation,\n",
    "        # 'optimizer':optimizer\n",
    "        # }\n",
    "\n",
    "\n",
    "#metrics = {'performance':performance}\n",
    "#experiment.log_metrics(metrics)\n",
    "\n",
    "#experiment.log_parameters(params)\n"
   ]
  },
  {
   "cell_type": "code",
   "execution_count": null,
   "metadata": {
    "colab": {},
    "colab_type": "code",
    "id": "Jfcmrgi-RANM"
   },
   "outputs": [],
   "source": [
    "#experiment.end()"
   ]
  },
  {
   "cell_type": "code",
   "execution_count": null,
   "metadata": {
    "colab": {},
    "colab_type": "code",
    "id": "Nqfizt-zRFfL"
   },
   "outputs": [],
   "source": [
    "#experiment.display()"
   ]
  }
 ],
 "metadata": {
  "colab": {
   "collapsed_sections": [],
   "name": "team_rm4_JHB_101 (2).ipynb",
   "provenance": []
  },
  "kernelspec": {
   "display_name": "Python 3",
   "language": "python",
   "name": "python3"
  },
  "language_info": {
   "codemirror_mode": {
    "name": "ipython",
    "version": 3
   },
   "file_extension": ".py",
   "mimetype": "text/x-python",
   "name": "python",
   "nbconvert_exporter": "python",
   "pygments_lexer": "ipython3",
   "version": "3.7.1"
  },
  "toc": {
   "base_numbering": 1,
   "nav_menu": {},
   "number_sections": true,
   "sideBar": true,
   "skip_h1_title": false,
   "title_cell": "Table of Contents",
   "title_sidebar": "Contents",
   "toc_cell": false,
   "toc_position": {},
   "toc_section_display": true,
   "toc_window_display": true
  }
 },
 "nbformat": 4,
 "nbformat_minor": 1
}
